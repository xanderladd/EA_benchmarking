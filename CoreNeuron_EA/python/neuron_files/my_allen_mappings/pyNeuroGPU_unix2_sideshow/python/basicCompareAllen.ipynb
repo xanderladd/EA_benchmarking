{
 "cells": [
  {
   "cell_type": "code",
   "execution_count": 1,
   "metadata": {},
   "outputs": [],
   "source": [
    "import numpy as np\n",
    "import struct\n",
    "import matplotlib.pyplot as plt\n",
    "import h5py\n",
    "\n",
    "def nrnMread(fileName):\n",
    "    f = open(fileName, \"rb\")\n",
    "    nparam = struct.unpack('i', f.read(4))[0]\n",
    "    typeFlg = struct.unpack('i', f.read(4))[0]\n",
    "    return np.fromfile(f,np.double)\n",
    "\n",
    "# objectives_file = h5py.File('../objectives/multi_stim_bbp_full_allen_gpu_tune_18_stims.hdf5', 'r')\n",
    "# opt_weight_list = objectives_file['opt_weight_list'][:]\n",
    "# opt_stim_name_list = objectives_file['opt_stim_name_list'][:]\n",
    "# opt_stim_list = [e.decode('ascii') for e in opt_stim_name_list]\n",
    "\n",
    "# target_volts_path = './target_volts/allen_data_target_volts_10000.hdf5'\n",
    "# target_volts_hdf5 = h5py.File(target_volts_path, 'r')\n",
    "# target_volts = [target_volts_hdf5[s][:] for s in opt_stim_list]\n",
    "#target_volts = np.genfromtxt(\"targetVolts.csv\", delimiter=\",\")\n",
    "objectives_file = h5py.File('../objectives/allen485835016_objectives_passive.hdf5', 'r')\n",
    "opt_weight_list = objectives_file['opt_weight_list'][:]\n",
    "opt_stim_name_list = objectives_file['opt_stim_name_list'][:]\n",
    "opt_stim_list = [e for e in opt_stim_name_list]\n",
    "\n",
    "target_volts = np.genfromtxt(\"targetVolts_zeroed.csv\", delimiter=\",\")\n",
    "\n",
    "target_volts_path = './target_volts/target_volts_485835016_passive.hdf5'\n",
    "target_volts_hdf5 = h5py.File(target_volts_path, 'r')\n",
    "target_volts_emp = [target_volts_hdf5[s][:] for s in opt_stim_list]\n",
    "\n"
   ]
  },
  {
   "cell_type": "code",
   "execution_count": null,
   "metadata": {},
   "outputs": [],
   "source": [
    "for i in range(1,18):\n",
    "    plt.figure()\n",
    "    volts = nrnMread(\"../Data/VHotP{}.dat\".format(i))[:10000]\n",
    "    #target_volts_path = './target_volts/allen_data_target_volts_10000.hdf5'\n",
    "    #target_volts_hdf5 = h5py.File(target_volts_path, 'r')\n",
    "    #target_volts = [target_volts_hdf5[s][:] for s in opt_stim_list][i]\n",
    "    curr_target_volts =  target_volts[i]\n",
    "    #plt.plot(target_volts[i], color=\"Red\", label=\"Neuron\")\n",
    "    myPlot = plt.plot(volts, label=\"NeuroGPU\")\n",
    "    plt.plot(target_volts_emp[i], color='green', label='Empirical')\n",
    "\n",
    "    plt.legend()"
   ]
  },
  {
   "cell_type": "code",
   "execution_count": null,
   "metadata": {},
   "outputs": [],
   "source": []
  }
 ],
 "metadata": {
  "kernelspec": {
   "display_name": "dot_env",
   "language": "python",
   "name": "dot_env"
  },
  "language_info": {
   "codemirror_mode": {
    "name": "ipython",
    "version": 3
   },
   "file_extension": ".py",
   "mimetype": "text/x-python",
   "name": "python",
   "nbconvert_exporter": "python",
   "pygments_lexer": "ipython3",
   "version": "3.8.6"
  }
 },
 "nbformat": 4,
 "nbformat_minor": 4
}
