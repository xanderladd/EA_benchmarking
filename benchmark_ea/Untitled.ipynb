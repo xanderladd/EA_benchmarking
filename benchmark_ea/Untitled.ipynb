{
 "cells": [
  {
   "cell_type": "code",
   "execution_count": 15,
   "id": "630a9646-5801-496c-a5c9-5784835f9d4b",
   "metadata": {},
   "outputs": [],
   "source": [
    "import pandas as pd\n",
    "import numpy as np\n",
    "import matplotlib.pyplot as plt\n",
    "\n",
    "plt.rcParams['font.size'] = '16'"
   ]
  },
  {
   "cell_type": "code",
   "execution_count": 6,
   "id": "4b7a5f68-2bd7-464a-9e12-e8f247cb3b9e",
   "metadata": {},
   "outputs": [],
   "source": [
    "regular_exps = pd.read_csv('/global/cscratch1/sd/zladd/benchmarking/NeuroGPU_EA/python/regular_outputs/seed_exp.txt_scale.csv')\n",
    "seed_exps = pd.read_csv('/global/cscratch1/sd/zladd/benchmarking/NeuroGPU_EA/python/seed_outputs/seed_exp.txt_scale.csv')\n"
   ]
  },
  {
   "cell_type": "code",
   "execution_count": 13,
   "id": "cf0107a9-56f4-4291-8d1a-f9bea7c272d5",
   "metadata": {},
   "outputs": [],
   "source": [
    "regular_exps = regular_exps.drop_duplicates(subset=['Offspring'])\n",
    "seed_exps = seed_exps.drop_duplicates(subset=['Offspring'])"
   ]
  },
  {
   "cell_type": "code",
   "execution_count": 12,
   "id": "154d3725-c442-4ace-8b8d-e38c2aee96ad",
   "metadata": {},
   "outputs": [
    {
     "data": {
      "text/html": [
       "<div>\n",
       "<style scoped>\n",
       "    .dataframe tbody tr th:only-of-type {\n",
       "        vertical-align: middle;\n",
       "    }\n",
       "\n",
       "    .dataframe tbody tr th {\n",
       "        vertical-align: top;\n",
       "    }\n",
       "\n",
       "    .dataframe thead th {\n",
       "        text-align: right;\n",
       "    }\n",
       "</style>\n",
       "<table border=\"1\" class=\"dataframe\">\n",
       "  <thead>\n",
       "    <tr style=\"text-align: right;\">\n",
       "      <th></th>\n",
       "      <th>Unnamed: 0</th>\n",
       "      <th>Nodes</th>\n",
       "      <th>Total Cpus</th>\n",
       "      <th>Total Gpus</th>\n",
       "      <th>Offspring</th>\n",
       "      <th>Stimuli</th>\n",
       "      <th>Score Functions</th>\n",
       "      <th>Runtime</th>\n",
       "      <th>Runtime Stddev</th>\n",
       "      <th>FOM</th>\n",
       "      <th>...</th>\n",
       "      <th>Mean Eval Time</th>\n",
       "      <th>Std Eval Time</th>\n",
       "      <th>Mean Sim Time</th>\n",
       "      <th>Std Sim Time</th>\n",
       "      <th>DEAP time</th>\n",
       "      <th>DEAP Time Std Dev</th>\n",
       "      <th>Time to 50 Gen</th>\n",
       "      <th>Mean Gen Size</th>\n",
       "      <th>Std Gen Size</th>\n",
       "      <th>Num Trials</th>\n",
       "    </tr>\n",
       "  </thead>\n",
       "  <tbody>\n",
       "    <tr>\n",
       "      <th>0</th>\n",
       "      <td>0</td>\n",
       "      <td>1.0</td>\n",
       "      <td>42.0</td>\n",
       "      <td>8.0</td>\n",
       "      <td>250.0</td>\n",
       "      <td>8.0</td>\n",
       "      <td>20.0</td>\n",
       "      <td>25.001184</td>\n",
       "      <td>3.473825</td>\n",
       "      <td>1.270914</td>\n",
       "      <td>...</td>\n",
       "      <td>13.921851</td>\n",
       "      <td>3.489188</td>\n",
       "      <td>8.604814</td>\n",
       "      <td>0.592939</td>\n",
       "      <td>12.757931</td>\n",
       "      <td>27.948057</td>\n",
       "      <td>337169.304187</td>\n",
       "      <td>200.690000</td>\n",
       "      <td>11.012443</td>\n",
       "      <td>599.0</td>\n",
       "    </tr>\n",
       "    <tr>\n",
       "      <th>2</th>\n",
       "      <td>2</td>\n",
       "      <td>1.0</td>\n",
       "      <td>42.0</td>\n",
       "      <td>8.0</td>\n",
       "      <td>500.0</td>\n",
       "      <td>8.0</td>\n",
       "      <td>20.0</td>\n",
       "      <td>36.877928</td>\n",
       "      <td>5.716413</td>\n",
       "      <td>1.725709</td>\n",
       "      <td>...</td>\n",
       "      <td>24.669391</td>\n",
       "      <td>5.212696</td>\n",
       "      <td>9.326528</td>\n",
       "      <td>1.023082</td>\n",
       "      <td>3373.306125</td>\n",
       "      <td>32958.868491</td>\n",
       "      <td>-328478.915617</td>\n",
       "      <td>397.370000</td>\n",
       "      <td>18.607877</td>\n",
       "      <td>599.0</td>\n",
       "    </tr>\n",
       "    <tr>\n",
       "      <th>3</th>\n",
       "      <td>3</td>\n",
       "      <td>1.0</td>\n",
       "      <td>42.0</td>\n",
       "      <td>8.0</td>\n",
       "      <td>1000.0</td>\n",
       "      <td>8.0</td>\n",
       "      <td>20.0</td>\n",
       "      <td>70.691696</td>\n",
       "      <td>8.877348</td>\n",
       "      <td>1.795024</td>\n",
       "      <td>...</td>\n",
       "      <td>49.334350</td>\n",
       "      <td>7.608144</td>\n",
       "      <td>17.894464</td>\n",
       "      <td>1.561014</td>\n",
       "      <td>4483.875806</td>\n",
       "      <td>38138.135390</td>\n",
       "      <td>-331544.433495</td>\n",
       "      <td>798.417582</td>\n",
       "      <td>34.848515</td>\n",
       "      <td>545.0</td>\n",
       "    </tr>\n",
       "    <tr>\n",
       "      <th>4</th>\n",
       "      <td>4</td>\n",
       "      <td>1.0</td>\n",
       "      <td>42.0</td>\n",
       "      <td>8.0</td>\n",
       "      <td>1500.0</td>\n",
       "      <td>8.0</td>\n",
       "      <td>20.0</td>\n",
       "      <td>91.949990</td>\n",
       "      <td>6.167371</td>\n",
       "      <td>2.047830</td>\n",
       "      <td>...</td>\n",
       "      <td>68.962435</td>\n",
       "      <td>4.885984</td>\n",
       "      <td>19.054861</td>\n",
       "      <td>1.625642</td>\n",
       "      <td>3992.390922</td>\n",
       "      <td>35884.520391</td>\n",
       "      <td>-332431.354099</td>\n",
       "      <td>1196.180723</td>\n",
       "      <td>51.283325</td>\n",
       "      <td>497.0</td>\n",
       "    </tr>\n",
       "    <tr>\n",
       "      <th>5</th>\n",
       "      <td>5</td>\n",
       "      <td>1.0</td>\n",
       "      <td>42.0</td>\n",
       "      <td>8.0</td>\n",
       "      <td>2500.0</td>\n",
       "      <td>8.0</td>\n",
       "      <td>20.0</td>\n",
       "      <td>150.738066</td>\n",
       "      <td>7.657547</td>\n",
       "      <td>2.078095</td>\n",
       "      <td>...</td>\n",
       "      <td>111.459498</td>\n",
       "      <td>5.870866</td>\n",
       "      <td>34.134361</td>\n",
       "      <td>2.095394</td>\n",
       "      <td>5674.514762</td>\n",
       "      <td>42193.304825</td>\n",
       "      <td>-324543.612864</td>\n",
       "      <td>1991.100000</td>\n",
       "      <td>91.432747</td>\n",
       "      <td>419.0</td>\n",
       "    </tr>\n",
       "  </tbody>\n",
       "</table>\n",
       "<p>5 rows × 22 columns</p>\n",
       "</div>"
      ],
      "text/plain": [
       "   Unnamed: 0  Nodes  Total Cpus  Total Gpus  Offspring  Stimuli  \\\n",
       "0           0    1.0        42.0         8.0      250.0      8.0   \n",
       "2           2    1.0        42.0         8.0      500.0      8.0   \n",
       "3           3    1.0        42.0         8.0     1000.0      8.0   \n",
       "4           4    1.0        42.0         8.0     1500.0      8.0   \n",
       "5           5    1.0        42.0         8.0     2500.0      8.0   \n",
       "\n",
       "   Score Functions     Runtime  Runtime Stddev       FOM  ...  Mean Eval Time  \\\n",
       "0             20.0   25.001184        3.473825  1.270914  ...       13.921851   \n",
       "2             20.0   36.877928        5.716413  1.725709  ...       24.669391   \n",
       "3             20.0   70.691696        8.877348  1.795024  ...       49.334350   \n",
       "4             20.0   91.949990        6.167371  2.047830  ...       68.962435   \n",
       "5             20.0  150.738066        7.657547  2.078095  ...      111.459498   \n",
       "\n",
       "   Std Eval Time  Mean Sim Time  Std Sim Time    DEAP time  DEAP Time Std Dev  \\\n",
       "0       3.489188       8.604814      0.592939    12.757931          27.948057   \n",
       "2       5.212696       9.326528      1.023082  3373.306125       32958.868491   \n",
       "3       7.608144      17.894464      1.561014  4483.875806       38138.135390   \n",
       "4       4.885984      19.054861      1.625642  3992.390922       35884.520391   \n",
       "5       5.870866      34.134361      2.095394  5674.514762       42193.304825   \n",
       "\n",
       "   Time to 50 Gen  Mean Gen Size  Std Gen Size  Num Trials  \n",
       "0   337169.304187     200.690000     11.012443       599.0  \n",
       "2  -328478.915617     397.370000     18.607877       599.0  \n",
       "3  -331544.433495     798.417582     34.848515       545.0  \n",
       "4  -332431.354099    1196.180723     51.283325       497.0  \n",
       "5  -324543.612864    1991.100000     91.432747       419.0  \n",
       "\n",
       "[5 rows x 22 columns]"
      ]
     },
     "execution_count": 12,
     "metadata": {},
     "output_type": "execute_result"
    }
   ],
   "source": []
  },
  {
   "cell_type": "code",
   "execution_count": 38,
   "id": "94e38a47-ab6f-42b0-8f27-39381e8c1cc4",
   "metadata": {},
   "outputs": [
    {
     "data": {
      "image/png": "[encoded data removed]",
      "text/plain": [
       "<Figure size 432x288 with 1 Axes>"
      ]
     },
     "metadata": {
      "needs_background": "light"
     },
     "output_type": "display_data"
    }
   ],
   "source": [
    "plt.plot(seed_exps['Offspring'].values, seed_exps['Runtime'].values, color='blue', label='1 Seed')\n",
    "plt.fill_between(seed_exps['Offspring'].values, seed_exps['Runtime'].values - seed_exps['Runtime Stddev'].values, seed_exps['Runtime'].values  + seed_exps['Runtime Stddev'].values, \\\n",
    "                     alpha=.3, color='blue')\n",
    "\n",
    "plt.plot(regular_exps['Offspring'].values, regular_exps['Runtime'].values, color='red', label='Multi Seed')\n",
    "plt.fill_between(regular_exps['Offspring'].values, regular_exps['Runtime'].values - regular_exps['Runtime Stddev'].values, regular_exps['Runtime'].values  + regular_exps['Runtime Stddev'].values, \\\n",
    "                     alpha=.3, color='red')\n",
    "\n",
    "plt.legend()\n",
    "plt.ylabel('Time (s)')\n",
    "plt.xlabel('Population Size')\n",
    "plt.savefig('seed_scale.png', bbox_inches='tight')"
   ]
  },
  {
   "cell_type": "code",
   "execution_count": 23,
   "id": "dadadb91-3caa-4fa5-9746-937444fa0ed0",
   "metadata": {},
   "outputs": [
    {
     "data": {
      "text/plain": [
       "5"
      ]
     },
     "execution_count": 23,
     "metadata": {},
     "output_type": "execute_result"
    }
   ],
   "source": [
    "len(regular_exps['Runtime'])"
   ]
  },
  {
   "cell_type": "code",
   "execution_count": 24,
   "id": "eb6d01cf-5f6d-49c6-a64a-e4f68715d47f",
   "metadata": {},
   "outputs": [
    {
     "data": {
      "text/plain": [
       "5"
      ]
     },
     "execution_count": 24,
     "metadata": {},
     "output_type": "execute_result"
    }
   ],
   "source": [
    "len(seed_exps['Runtime'])"
   ]
  },
  {
   "cell_type": "code",
   "execution_count": null,
   "id": "e4e5f913-7c69-4a3d-afcb-71dc7d0884b4",
   "metadata": {},
   "outputs": [],
   "source": []
  }
 ],
 "metadata": {
  "kernelspec": {
   "display_name": "dot_env",
   "language": "python",
   "name": "dot_env"
  },
  "language_info": {
   "codemirror_mode": {
    "name": "ipython",
    "version": 3
   },
   "file_extension": ".py",
   "mimetype": "text/x-python",
   "name": "python",
   "nbconvert_exporter": "python",
   "pygments_lexer": "ipython3",
   "version": "3.8.6"
  }
 },
 "nbformat": 4,
 "nbformat_minor": 5
}
