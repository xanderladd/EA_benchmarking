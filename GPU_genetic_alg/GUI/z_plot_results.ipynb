{
 "cells": [
  {
   "cell_type": "code",
   "execution_count": 1,
   "metadata": {},
   "outputs": [],
   "source": [
    "import os\n",
    "import numpy as np\n",
    "import matplotlib.pyplot as plt\n",
    "import struct\n",
    "import h5py\n",
    "import pickle as pkl\n",
    "import bluepyopt as bpop\n",
    "import nrnUtils\n",
    "from neuron import h\n",
    "\n",
    "\n",
    "\n",
    "\n",
    "def nrnMread(fileName):\n",
    "    f = open(fileName, \"rb\")\n",
    "    nparam = struct.unpack('i', f.read(4))[0]\n",
    "    typeFlg = struct.unpack('i', f.read(4))[0]\n",
    "    return np.fromfile(f,np.double)\n",
    "\n",
    "data_dir ='../Data'\n",
    "\n",
    "\n",
    "def nrnMreadH5(fileName):\n",
    "    f = h5py.File(fileName,'r')\n",
    "    dat = f['Data'][:][0]\n",
    "    return np.array(dat)"
   ]
  },
  {
   "cell_type": "code",
   "execution_count": 2,
   "metadata": {},
   "outputs": [],
   "source": [
    "\n",
    "with open(\"/global/cscratch1/sd/zladd/axonstandardized/playground/gen_alg_GPU/python/best_indv_logs/best_indvs_gen_48.pkl\", 'rb') \\\n",
    "as f:\n",
    "    best_ind = pkl.load(f)\n",
    "best_params = np.array(best_ind[46]) # 48 of these"
   ]
  },
  {
   "cell_type": "code",
   "execution_count": 3,
   "metadata": {},
   "outputs": [
    {
     "name": "stdout",
     "output_type": "stream",
     "text": [
      "(24,)\n",
      "8e-05  idx :  0\n",
      "0.00291  idx :  7\n",
      "287.198731  idx :  13\n",
      "0.000609  idx :  15\n",
      "210.485284  idx :  21\n"
     ]
    }
   ],
   "source": [
    "paramsCSV = '../params/params_bbp_full.csv'\n",
    "#orig_params = np.array(np.array(nrnUtils.readParamsCSV(paramsCSV))[:,1], dtype=np.float64)\n",
    "orig_params = h5py.File('../params/params_bbp_full.hdf5', 'r')['orig_full'][0]\n",
    "print(orig_params.shape)\n",
    "scores_path = '../scores/'\n",
    "objectives_file = h5py.File('../objectives/multi_stim_bbp_full.hdf5', 'r')\n",
    "opt_weight_list = objectives_file['opt_weight_list'][:]\n",
    "opt_stim_name_list = objectives_file['opt_stim_name_list'][:]\n",
    "opt_stim_list = [e.decode('ascii') for e in opt_stim_name_list]\n",
    "score_function_ordered_list = objectives_file['ordered_score_function_list'][:]\n",
    "stims_path = '../stims/stims_full.hdf5'\n",
    "stim_file = h5py.File(stims_path, 'r')\n",
    "#target_volts_path = './target_volts/allen_data_target_volts_10000.hdf5'\n",
    "#target_volts_hdf5 = h5py.File(target_volts_path, 'r')\n",
    "#params_opt_ind = [0, 1, 2, 3, 4, 5, 6, 7, 8, 9, 10, 11, 12, 13]\n",
    "params_opt_ind = np.arange(24) \n",
    "model_dir = '..'\n",
    "data_dir = model_dir+'/Data/'\n",
    "run_dir = '../bin'\n",
    "vs_fn = '/tmp/Data/VHotP'\n",
    "data = nrnUtils.readParamsCSV(paramsCSV)\n",
    "#self.opt_ind = params_opt_ind\n",
    "data = np.array([data[i] for i in params_opt_ind])\n",
    "pmin = np.array((data[:,2]), dtype=np.float64)\n",
    "pmax = np.array((data[:,3]), dtype=np.float64)\n",
    "# make this a function\n",
    "fixed = {}\n",
    "params = []\n",
    "for param_idx in range(len(orig_params)):\n",
    "    if np.isclose(orig_params[param_idx],pmin[param_idx],rtol=.001) and np.isclose(pmin[param_idx],pmax[param_idx],rtol=.001):\n",
    "        print(orig_params[param_idx], \" idx : \", param_idx)\n",
    "        fixed[param_idx] = orig_params[param_idx]\n",
    "    else:\n",
    "        params.append(bpop.parameters.Parameter(orig_params[param_idx], bounds=(pmin[param_idx],pmax[param_idx])))"
   ]
  },
  {
   "cell_type": "code",
   "execution_count": 4,
   "metadata": {},
   "outputs": [],
   "source": [
    "for reinsert_idx in fixed.keys():\n",
    "    best_params = np.insert(np.array(best_params), reinsert_idx, fixed[reinsert_idx], axis = 0)"
   ]
  },
  {
   "cell_type": "code",
   "execution_count": 5,
   "metadata": {},
   "outputs": [],
   "source": [
    "#os.getcwd()\n",
    "os.chdir(\"../../genetic_alg2\")"
   ]
  },
  {
   "cell_type": "markdown",
   "metadata": {},
   "source": [
    "# NEURON run model using params obtained from GPU BestInds"
   ]
  },
  {
   "cell_type": "code",
   "execution_count": 6,
   "metadata": {},
   "outputs": [],
   "source": [
    "import os\n",
    "import sys\n",
    "#os.chdir(\"../../genetic_alg2\")\n",
    "sys.path.insert(0,\"/global/cscratch1/sd/zladd/axonstandardized/playground/genetic_alg2\")\n",
    "from neuron import h\n",
    "import numpy as np\n",
    "import h5py\n",
    "import bluepyopt as bpop\n",
    "import nrnUtils\n",
    "import score_functions as sf\n",
    "import efel\n",
    "import pandas as pd\n",
    "\n",
    "run_file = './run_model_cori.hoc'\n",
    "# run_volts_path = '../run_volts_bbp/'\n",
    "paramsCSV = './params/params_bbp_full.csv'\n",
    "orig_params = h5py.File('./params/params_bbp_full.hdf5', 'r')['orig_full'][0]\n",
    "scores_path = './scores/'\n",
    "objectives_file = h5py.File('./objectives/multi_stim_bbp_full.hdf5', 'r')\n",
    "opt_weight_list = objectives_file['opt_weight_list'][:]\n",
    "opt_stim_name_list = objectives_file['opt_stim_name_list'][:]\n",
    "opt_stim_list = [e.decode('ascii') for e in opt_stim_name_list]\n",
    "score_function_ordered_list = objectives_file['ordered_score_function_list'][:]\n",
    "stims_path = './stims/stims_full.hdf5'\n",
    "params_opt_ind = [1, 2, 3, 4, 5, 6, 8, 9, 10, 11, 12, 14, 16, 17, 18, 19, 20, 22, 23]\n",
    "\n",
    "custom_score_functions = [\n",
    "                    'chi_square_normal',\\\n",
    "                    'traj_score_1',\\\n",
    "                    'traj_score_2',\\\n",
    "                    'traj_score_3',\\\n",
    "                    'isi',\\\n",
    "                    'rev_dot_product',\\\n",
    "                    'KL_divergence']\n",
    "\n",
    "# Number of timesteps for the output volt.\n",
    "ntimestep = 10000\n",
    "\n",
    "\n",
    "def run_model(param_set, stim_name_list):\n",
    "    h.load_file(run_file)\n",
    "    volts_list = []\n",
    "    for elem in stim_name_list:\n",
    "        stims_hdf5 = h5py.File(stims_path, 'r')\n",
    "        curr_stim = stims_hdf5[elem][:]\n",
    "        total_params_num = len(param_set)\n",
    "        dt = stims_hdf5[elem+'_dt']\n",
    "        timestamps = np.array([dt for i in range(ntimestep)])\n",
    "        h.curr_stim = h.Vector().from_python(curr_stim)\n",
    "        h.transvec = h.Vector(total_params_num, 1).from_python(param_set)\n",
    "        h.stimtime = h.Matrix(1, len(timestamps)).from_vector(h.Vector().from_python(timestamps))\n",
    "        h.ntimestep = ntimestep\n",
    "        h.runStim()\n",
    "        out = h.vecOut.to_python()        \n",
    "        volts_list.append(out)\n",
    "    return np.array(volts_list)\n"
   ]
  },
  {
   "cell_type": "code",
   "execution_count": null,
   "metadata": {},
   "outputs": [],
   "source": [
    "data_volts_list = run_model(best_params, opt_stim_list)"
   ]
  },
  {
   "cell_type": "code",
   "execution_count": 1,
   "metadata": {},
   "outputs": [
    {
     "ename": "NameError",
     "evalue": "name 'np' is not defined",
     "output_type": "error",
     "traceback": [
      "\u001b[0;31m---------------------------------------------------------------------------\u001b[0m",
      "\u001b[0;31mNameError\u001b[0m                                 Traceback (most recent call last)",
      "\u001b[0;32m<ipython-input-1-a7322c292965>\u001b[0m in \u001b[0;36m<module>\u001b[0;34m\u001b[0m\n\u001b[0;32m----> 1\u001b[0;31m \u001b[0mvolts\u001b[0m \u001b[0;34m=\u001b[0m  \u001b[0mnp\u001b[0m\u001b[0;34m.\u001b[0m\u001b[0mgenfromtxt\u001b[0m\u001b[0;34m(\u001b[0m\u001b[0;34m\"best_ind.csv\"\u001b[0m\u001b[0;34m,\u001b[0m \u001b[0mdelimiter\u001b[0m\u001b[0;34m=\u001b[0m\u001b[0;34m\",\"\u001b[0m\u001b[0;34m)\u001b[0m\u001b[0;34m\u001b[0m\u001b[0;34m\u001b[0m\u001b[0m\n\u001b[0m\u001b[1;32m      2\u001b[0m \u001b[0mtargV\u001b[0m \u001b[0;34m=\u001b[0m \u001b[0mnp\u001b[0m\u001b[0;34m.\u001b[0m\u001b[0mgenfromtxt\u001b[0m\u001b[0;34m(\u001b[0m\u001b[0;34m\"/global/cscratch1/sd/zladd/axonstandardized/playground/gen_alg_GPU/Data/target_volts_BBP19.csv\"\u001b[0m\u001b[0;34m,\u001b[0m \u001b[0mdelimiter\u001b[0m\u001b[0;34m=\u001b[0m\u001b[0;34m\",\"\u001b[0m\u001b[0;34m)\u001b[0m\u001b[0;34m\u001b[0m\u001b[0;34m\u001b[0m\u001b[0m\n\u001b[1;32m      3\u001b[0m \u001b[0mfig\u001b[0m\u001b[0;34m,\u001b[0m \u001b[0maxs\u001b[0m \u001b[0;34m=\u001b[0m \u001b[0mplt\u001b[0m\u001b[0;34m.\u001b[0m\u001b[0msubplots\u001b[0m\u001b[0;34m(\u001b[0m\u001b[0mnrows\u001b[0m\u001b[0;34m=\u001b[0m\u001b[0;36m18\u001b[0m\u001b[0;34m,\u001b[0m\u001b[0mncols\u001b[0m\u001b[0;34m=\u001b[0m\u001b[0;36m1\u001b[0m\u001b[0;34m,\u001b[0m\u001b[0mfigsize\u001b[0m\u001b[0;34m=\u001b[0m\u001b[0;34m(\u001b[0m\u001b[0;36m10\u001b[0m\u001b[0;34m,\u001b[0m\u001b[0;36m20\u001b[0m\u001b[0;34m)\u001b[0m\u001b[0;34m)\u001b[0m\u001b[0;34m\u001b[0m\u001b[0;34m\u001b[0m\u001b[0m\n\u001b[1;32m      4\u001b[0m \u001b[0;31m#fig.set_figheight(20)\u001b[0m\u001b[0;34m\u001b[0m\u001b[0;34m\u001b[0m\u001b[0;34m\u001b[0m\u001b[0m\n\u001b[1;32m      5\u001b[0m \u001b[0;34m\u001b[0m\u001b[0m\n",
      "\u001b[0;31mNameError\u001b[0m: name 'np' is not defined"
     ]
    }
   ],
   "source": [
    "volts =  np.genfromtxt(\"best_ind.csv\", delimiter=\",\")\n",
    "targV = np.genfromtxt(\"/global/cscratch1/sd/zladd/axonstandardized/playground/gen_alg_GPU/Data/target_volts_BBP19.csv\", delimiter=\",\")\n",
    "fig, axs = plt.subplots(nrows=18,ncols=1,figsize=(10,20))\n",
    "#fig.set_figheight(20)\n",
    "\n",
    "for i in range(volts.shape[0]):\n",
    "    axs[i].plot(volts[i], color=\"blue\")\n",
    "    axs[i].plot(targV[i], color=\"red\")"
   ]
  },
  {
   "cell_type": "code",
   "execution_count": null,
   "metadata": {},
   "outputs": [],
   "source": []
  }
 ],
 "metadata": {
  "kernelspec": {
   "display_name": "Python 3",
   "language": "python",
   "name": "python3"
  },
  "language_info": {
   "codemirror_mode": {
    "name": "ipython",
    "version": 3
   },
   "file_extension": ".py",
   "mimetype": "text/x-python",
   "name": "python",
   "nbconvert_exporter": "python",
   "pygments_lexer": "ipython3",
   "version": "3.7.4"
  }
 },
 "nbformat": 4,
 "nbformat_minor": 4
}
