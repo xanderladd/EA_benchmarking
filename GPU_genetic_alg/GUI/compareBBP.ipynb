{
 "cells": [
  {
   "cell_type": "code",
   "execution_count": 1,
   "metadata": {},
   "outputs": [],
   "source": [
    "import os\n",
    "import numpy as np\n",
    "import matplotlib.pyplot as plt\n",
    "import struct\n",
    "import h5py\n",
    "import numpy as np\n",
    "import matplotlib.pyplot as plt\n",
    "import pickle\n",
    "from extractModel_mappings_linux import   allparams_from_mapping\n",
    "import subprocess\n",
    "\n",
    "def nrnMread(fileName):\n",
    "    f = open(fileName, \"rb\")\n",
    "    nparam = struct.unpack('i', f.read(4))[0]\n",
    "    typeFlg = struct.unpack('i', f.read(4))[0]\n",
    "    return np.fromfile(f,np.double)\n",
    "\n",
    "data_dir ='../Data'\n",
    "\n",
    "\n",
    "def nrnMreadH5(fileName):\n",
    "    f = h5py.File(fileName,'r')\n",
    "    dat = f['Data'][:][0]\n",
    "    return np.array(dat)"
   ]
  },
  {
   "cell_type": "code",
   "execution_count": 11,
   "metadata": {},
   "outputs": [
    {
     "name": "stdout",
     "output_type": "stream",
     "text": [
      "[8.00000000e-05 2.61450000e-02 4.22600000e-03 8.00000000e-05\n",
      " 1.43000000e-04 3.13796800e+00 8.92590000e-02 2.91000000e-03\n",
      " 6.82700000e-03 7.10400000e-03 9.90000000e-04 9.73538000e-01\n",
      " 1.02194500e+00 2.87198731e+02 8.75200000e-03 6.09000000e-04\n",
      " 3.03472000e-01 8.40700000e-03 9.94000000e-04 9.83955000e-01\n",
      " 8.00000000e-05 2.10485284e+02 3.33000000e-04 3.00000000e-05]\n"
     ]
    }
   ],
   "source": [
    "paramsCSV = '../params/params_bbp_full.csv'\n",
    "#orig_params = np.array(np.array(nrnUtils.readParamsCSV(paramsCSV))[:,1], dtype=np.float64)\n",
    "orig_params = h5py.File('../params/params_bbp_full.hdf5', 'r')['orig_full'][0]\n",
    "print(orig_params)\n",
    "scores_path = '../scores/'\n",
    "objectives_file = h5py.File('../objectives/multi_stim_bbp_full.hdf5', 'r')\n",
    "opt_weight_list = objectives_file['opt_weight_list'][:]\n",
    "opt_stim_name_list = objectives_file['opt_stim_name_list'][:]\n",
    "opt_stim_list = [e.decode('ascii') for e in opt_stim_name_list]\n",
    "score_function_ordered_list = objectives_file['ordered_score_function_list'][:]\n",
    "stims_path = '../stims/stims_full.hdf5'\n",
    "stim_file = h5py.File(stims_path, 'r')\n",
    "#target_volts_path = './target_volts/allen_data_target_volts_10000.hdf5'\n",
    "#target_volts_hdf5 = h5py.File(target_volts_path, 'r')\n",
    "#params_opt_ind = [0, 1, 2, 3, 4, 5, 6, 7, 8, 9, 10, 11, 12, 13]\n",
    "params_opt_ind = np.arange(24) \n",
    "model_dir = '..'\n",
    "data_dir = model_dir+'/Data/'\n",
    "run_dir = '../bin'\n",
    "#vs_fn = '/tmp/Data/VHotP'\n",
    "vs_fn = '../Data/VHotP'\n",
    "target_volts = np.genfromtxt(\"../Data/target_volts_BBP19.csv\",delimiter = ',')\n",
    "ntimestep = 10000"
   ]
  },
  {
   "cell_type": "code",
   "execution_count": 3,
   "metadata": {},
   "outputs": [],
   "source": [
    "import pandas as pd\n",
    "\n",
    "def readParamsCSV(fileName):\n",
    "    fields = ['Param name', 'Base value','Lower bound', 'Upper bound']\n",
    "    df = pd.read_csv(fileName,skipinitialspace=True, usecols=fields)\n",
    "    \n",
    "    paramsList = [tuple(x) for x in df.values]\n",
    "    return paramsList"
   ]
  },
  {
   "cell_type": "code",
   "execution_count": 4,
   "metadata": {},
   "outputs": [
    {
     "name": "stdout",
     "output_type": "stream",
     "text": [
      "8e-05  idx :  0\n",
      "0.00291  idx :  7\n",
      "287.198731  idx :  13\n",
      "0.000609  idx :  15\n",
      "210.485284  idx :  21\n"
     ]
    }
   ],
   "source": [
    "import bluepyopt as bpop\n",
    "\n",
    "opt_ind = np.arange(24) \n",
    "data = readParamsCSV(paramsCSV)\n",
    "data = np.array([data[i] for i in opt_ind])\n",
    "pmin = np.array((data[:,2]), dtype=np.float64)\n",
    "pmax = np.array((data[:,3]), dtype=np.float64)\n",
    "# make this a function\n",
    "fixed = {}\n",
    "params = []\n",
    "for param_idx in range(len(orig_params)):\n",
    "    if np.isclose(orig_params[param_idx],pmin[param_idx],rtol=.001) and np.isclose(pmin[param_idx],pmax[param_idx],rtol=.001):\n",
    "        print(orig_params[param_idx], \" idx : \", param_idx)\n",
    "        fixed[param_idx] = orig_params[param_idx]\n",
    "    else:\n",
    "        params.append(bpop.parameters.Parameter(orig_params[param_idx], bounds=(pmin[param_idx],pmax[param_idx])))"
   ]
  },
  {
   "cell_type": "code",
   "execution_count": 13,
   "metadata": {},
   "outputs": [
    {
     "name": "stdout",
     "output_type": "stream",
     "text": [
      "[8.00000000e-05 2.61450000e-02 4.22600000e-03 8.00000000e-05\n",
      " 1.43000000e-04 3.13796800e+00 8.92590000e-02 2.91000000e-03\n",
      " 6.82700000e-03 7.10400000e-03 9.90000000e-04 9.73538000e-01\n",
      " 1.02194500e+00 2.87198731e+02 8.75200000e-03 6.09000000e-04\n",
      " 3.03472000e-01 8.40700000e-03 9.94000000e-04 9.83955000e-01\n",
      " 8.00000000e-05 2.10485284e+02 3.33000000e-04 3.00000000e-05] pvals shape!!!!!!!!\n"
     ]
    }
   ],
   "source": [
    "def run_model(stim_ind):\n",
    "    \"\"\"\n",
    "    Parameters\n",
    "    -------------------------------------------------------\n",
    "    stim_ind: index to send as arg to neuroGPU \n",
    "    params: DEPRECATED remove\n",
    "\n",
    "    Returns\n",
    "    ---------------------------------------------------------\n",
    "    p_object: process object that stops when neuroGPU done\n",
    "    \"\"\"\n",
    "    #volts_fn = vs_fn + str(stim_ind) + '.dat'\n",
    "    volts_fn = vs_fn + str(stim_ind) + '.h5'\n",
    "    if os.path.exists(volts_fn):\n",
    "        os.remove(volts_fn)\n",
    "    p_object = subprocess.Popen(['../bin/neuroGPU',str(stim_ind)],\n",
    "                    stdout=subprocess.PIPE, \n",
    "                    stderr=subprocess.STDOUT,  # <-- redirect stderr to stdout\n",
    "                    bufsize=1)\n",
    "    with p_object.stdout:\n",
    "        for line in iter(p_object.stdout.readline, b''):\n",
    "            print(line),\n",
    "    p_object.wait()\n",
    "    return p_object\n",
    "\n",
    "###### TEN COPIES OF ORIG PARAMS FOR DEBUG #################\n",
    "param_values =  np.array(orig_params).reshape(1,-1)\n",
    "param_values = np.repeat(param_values, 10, axis=0)\n",
    "print(param_values[0], \"pvals shape!!!!!!!!\")\n",
    "###### TEN COPIES OF ORIG PARAMS FOR DEBUG #################\n",
    "\n",
    "#allparams = allparams_from_mapping(list(param_values)) \n",
    "#run_model(1)"
   ]
  },
  {
   "cell_type": "code",
   "execution_count": 6,
   "metadata": {},
   "outputs": [],
   "source": [
    "def getVolts(idx):\n",
    "    '''Helper function that gets volts from data and shapes them for a given stim index'''\n",
    "    fn = vs_fn + str(idx) +  '.h5'    #'.h5' \n",
    "    curr_volts =  nrnMreadH5(fn)\n",
    "    #fn = vs_fn + str(idx) +  '.dat'    #'.h5'\n",
    "    #curr_volts =  nrnMread(fn)\n",
    "    Nt = int(len(curr_volts)/ntimestep)\n",
    "    shaped_volts = np.reshape(curr_volts, [Nt,ntimestep])\n",
    "    return shaped_volts"
   ]
  },
  {
   "cell_type": "code",
   "execution_count": 7,
   "metadata": {},
   "outputs": [
    {
     "name": "stdout",
     "output_type": "stream",
     "text": [
      "[8.00000000e-05 1.79922692e+00 2.01434217e-01 4.01899484e-03\n",
      " 8.64794342e-03 2.23438361e+02 3.33848302e+00 2.91000000e-03\n",
      " 5.81758859e-01 3.49159080e-01 1.36222981e-02 1.88224327e+01\n",
      " 3.30357316e+00 2.87198731e+02 6.69145013e-01 6.09000000e-04\n",
      " 4.58629921e-01 2.26931594e-01 4.10624101e-02 7.30480739e+01\n",
      " 7.90595674e-03 2.10485284e+02 2.52347670e-02 1.98689132e-04]\n",
      "[8.00000000e-05 2.61450000e-02 4.22600000e-03 8.00000000e-05\n",
      " 1.43000000e-04 3.13796800e+00 8.92590000e-02 2.91000000e-03\n",
      " 6.82700000e-03 7.10400000e-03 9.90000000e-04 9.73538000e-01\n",
      " 1.02194500e+00 2.87198731e+02 8.75200000e-03 6.09000000e-04\n",
      " 3.03472000e-01 8.40700000e-03 9.94000000e-04 9.83955000e-01\n",
      " 8.00000000e-05 2.10485284e+02 3.33000000e-04 3.00000000e-05]\n"
     ]
    },
    {
     "ename": "OSError",
     "evalue": "Unable to open file (unable to open file: name = '../Data/VHotP3.h5', errno = 2, error message = 'No such file or directory', flags = 0, o_flags = 0)",
     "output_type": "error",
     "traceback": [
      "\u001b[0;31m---------------------------------------------------------------------------\u001b[0m",
      "\u001b[0;31mOSError\u001b[0m                                   Traceback (most recent call last)",
      "\u001b[0;32m<ipython-input-7-b677ca955732>\u001b[0m in \u001b[0;36m<module>\u001b[0;34m\u001b[0m\n\u001b[1;32m     12\u001b[0m \u001b[0;32mfor\u001b[0m \u001b[0mi\u001b[0m \u001b[0;32min\u001b[0m \u001b[0mrange\u001b[0m\u001b[0;34m(\u001b[0m\u001b[0;36m1\u001b[0m\u001b[0;34m,\u001b[0m\u001b[0;36m8\u001b[0m\u001b[0;34m)\u001b[0m\u001b[0;34m:\u001b[0m\u001b[0;34m\u001b[0m\u001b[0;34m\u001b[0m\u001b[0m\n\u001b[1;32m     13\u001b[0m     \u001b[0mplt\u001b[0m\u001b[0;34m.\u001b[0m\u001b[0mfigure\u001b[0m\u001b[0;34m(\u001b[0m\u001b[0;34m)\u001b[0m\u001b[0;34m\u001b[0m\u001b[0;34m\u001b[0m\u001b[0m\n\u001b[0;32m---> 14\u001b[0;31m     \u001b[0mcurr_volts\u001b[0m \u001b[0;34m=\u001b[0m \u001b[0mgetVolts\u001b[0m\u001b[0;34m(\u001b[0m\u001b[0mi\u001b[0m\u001b[0;34m)\u001b[0m\u001b[0;34m\u001b[0m\u001b[0;34m\u001b[0m\u001b[0m\n\u001b[0m\u001b[1;32m     15\u001b[0m     \u001b[0mplt\u001b[0m\u001b[0;34m.\u001b[0m\u001b[0mplot\u001b[0m\u001b[0;34m(\u001b[0m\u001b[0mcurr_volts\u001b[0m\u001b[0;34m[\u001b[0m\u001b[0;36m0\u001b[0m\u001b[0;34m]\u001b[0m\u001b[0;34m)\u001b[0m\u001b[0;34m\u001b[0m\u001b[0;34m\u001b[0m\u001b[0m\n\u001b[1;32m     16\u001b[0m     \u001b[0mplt\u001b[0m\u001b[0;34m.\u001b[0m\u001b[0mplot\u001b[0m\u001b[0;34m(\u001b[0m\u001b[0mtarget_volts\u001b[0m\u001b[0;34m[\u001b[0m\u001b[0mi\u001b[0m\u001b[0;34m,\u001b[0m\u001b[0;34m:\u001b[0m\u001b[0;34m]\u001b[0m\u001b[0;34m,\u001b[0m \u001b[0mcolor\u001b[0m\u001b[0;34m=\u001b[0m\u001b[0;34m'Red'\u001b[0m\u001b[0;34m)\u001b[0m\u001b[0;34m\u001b[0m\u001b[0;34m\u001b[0m\u001b[0m\n",
      "\u001b[0;32m<ipython-input-6-58928b7edf82>\u001b[0m in \u001b[0;36mgetVolts\u001b[0;34m(idx)\u001b[0m\n\u001b[1;32m      2\u001b[0m     \u001b[0;34m'''Helper function that gets volts from data and shapes them for a given stim index'''\u001b[0m\u001b[0;34m\u001b[0m\u001b[0;34m\u001b[0m\u001b[0m\n\u001b[1;32m      3\u001b[0m     \u001b[0mfn\u001b[0m \u001b[0;34m=\u001b[0m \u001b[0mvs_fn\u001b[0m \u001b[0;34m+\u001b[0m \u001b[0mstr\u001b[0m\u001b[0;34m(\u001b[0m\u001b[0midx\u001b[0m\u001b[0;34m)\u001b[0m \u001b[0;34m+\u001b[0m  \u001b[0;34m'.h5'\u001b[0m    \u001b[0;31m#'.h5'\u001b[0m\u001b[0;34m\u001b[0m\u001b[0;34m\u001b[0m\u001b[0m\n\u001b[0;32m----> 4\u001b[0;31m     \u001b[0mcurr_volts\u001b[0m \u001b[0;34m=\u001b[0m  \u001b[0mnrnMreadH5\u001b[0m\u001b[0;34m(\u001b[0m\u001b[0mfn\u001b[0m\u001b[0;34m)\u001b[0m\u001b[0;34m\u001b[0m\u001b[0;34m\u001b[0m\u001b[0m\n\u001b[0m\u001b[1;32m      5\u001b[0m     \u001b[0;31m#fn = vs_fn + str(idx) +  '.dat'    #'.h5'\u001b[0m\u001b[0;34m\u001b[0m\u001b[0;34m\u001b[0m\u001b[0;34m\u001b[0m\u001b[0m\n\u001b[1;32m      6\u001b[0m     \u001b[0;31m#curr_volts =  nrnMread(fn)\u001b[0m\u001b[0;34m\u001b[0m\u001b[0;34m\u001b[0m\u001b[0;34m\u001b[0m\u001b[0m\n",
      "\u001b[0;32m<ipython-input-1-08d939f30f63>\u001b[0m in \u001b[0;36mnrnMreadH5\u001b[0;34m(fileName)\u001b[0m\n\u001b[1;32m     20\u001b[0m \u001b[0;34m\u001b[0m\u001b[0m\n\u001b[1;32m     21\u001b[0m \u001b[0;32mdef\u001b[0m \u001b[0mnrnMreadH5\u001b[0m\u001b[0;34m(\u001b[0m\u001b[0mfileName\u001b[0m\u001b[0;34m)\u001b[0m\u001b[0;34m:\u001b[0m\u001b[0;34m\u001b[0m\u001b[0;34m\u001b[0m\u001b[0m\n\u001b[0;32m---> 22\u001b[0;31m     \u001b[0mf\u001b[0m \u001b[0;34m=\u001b[0m \u001b[0mh5py\u001b[0m\u001b[0;34m.\u001b[0m\u001b[0mFile\u001b[0m\u001b[0;34m(\u001b[0m\u001b[0mfileName\u001b[0m\u001b[0;34m,\u001b[0m\u001b[0;34m'r'\u001b[0m\u001b[0;34m)\u001b[0m\u001b[0;34m\u001b[0m\u001b[0;34m\u001b[0m\u001b[0m\n\u001b[0m\u001b[1;32m     23\u001b[0m     \u001b[0mdat\u001b[0m \u001b[0;34m=\u001b[0m \u001b[0mf\u001b[0m\u001b[0;34m[\u001b[0m\u001b[0;34m'Data'\u001b[0m\u001b[0;34m]\u001b[0m\u001b[0;34m[\u001b[0m\u001b[0;34m:\u001b[0m\u001b[0;34m]\u001b[0m\u001b[0;34m[\u001b[0m\u001b[0;36m0\u001b[0m\u001b[0;34m]\u001b[0m\u001b[0;34m\u001b[0m\u001b[0;34m\u001b[0m\u001b[0m\n\u001b[1;32m     24\u001b[0m     \u001b[0;32mreturn\u001b[0m \u001b[0mnp\u001b[0m\u001b[0;34m.\u001b[0m\u001b[0marray\u001b[0m\u001b[0;34m(\u001b[0m\u001b[0mdat\u001b[0m\u001b[0;34m)\u001b[0m\u001b[0;34m\u001b[0m\u001b[0;34m\u001b[0m\u001b[0m\n",
      "\u001b[0;32m/usr/common/software/python/3.7-anaconda-2019.10/lib/python3.7/site-packages/h5py/_hl/files.py\u001b[0m in \u001b[0;36m__init__\u001b[0;34m(self, name, mode, driver, libver, userblock_size, swmr, rdcc_nslots, rdcc_nbytes, rdcc_w0, track_order, **kwds)\u001b[0m\n\u001b[1;32m    392\u001b[0m                 fid = make_fid(name, mode, userblock_size,\n\u001b[1;32m    393\u001b[0m                                \u001b[0mfapl\u001b[0m\u001b[0;34m,\u001b[0m \u001b[0mfcpl\u001b[0m\u001b[0;34m=\u001b[0m\u001b[0mmake_fcpl\u001b[0m\u001b[0;34m(\u001b[0m\u001b[0mtrack_order\u001b[0m\u001b[0;34m=\u001b[0m\u001b[0mtrack_order\u001b[0m\u001b[0;34m)\u001b[0m\u001b[0;34m,\u001b[0m\u001b[0;34m\u001b[0m\u001b[0;34m\u001b[0m\u001b[0m\n\u001b[0;32m--> 394\u001b[0;31m                                swmr=swmr)\n\u001b[0m\u001b[1;32m    395\u001b[0m \u001b[0;34m\u001b[0m\u001b[0m\n\u001b[1;32m    396\u001b[0m             \u001b[0;32mif\u001b[0m \u001b[0mswmr_support\u001b[0m\u001b[0;34m:\u001b[0m\u001b[0;34m\u001b[0m\u001b[0;34m\u001b[0m\u001b[0m\n",
      "\u001b[0;32m/usr/common/software/python/3.7-anaconda-2019.10/lib/python3.7/site-packages/h5py/_hl/files.py\u001b[0m in \u001b[0;36mmake_fid\u001b[0;34m(name, mode, userblock_size, fapl, fcpl, swmr)\u001b[0m\n\u001b[1;32m    168\u001b[0m         \u001b[0;32mif\u001b[0m \u001b[0mswmr\u001b[0m \u001b[0;32mand\u001b[0m \u001b[0mswmr_support\u001b[0m\u001b[0;34m:\u001b[0m\u001b[0;34m\u001b[0m\u001b[0;34m\u001b[0m\u001b[0m\n\u001b[1;32m    169\u001b[0m             \u001b[0mflags\u001b[0m \u001b[0;34m|=\u001b[0m \u001b[0mh5f\u001b[0m\u001b[0;34m.\u001b[0m\u001b[0mACC_SWMR_READ\u001b[0m\u001b[0;34m\u001b[0m\u001b[0;34m\u001b[0m\u001b[0m\n\u001b[0;32m--> 170\u001b[0;31m         \u001b[0mfid\u001b[0m \u001b[0;34m=\u001b[0m \u001b[0mh5f\u001b[0m\u001b[0;34m.\u001b[0m\u001b[0mopen\u001b[0m\u001b[0;34m(\u001b[0m\u001b[0mname\u001b[0m\u001b[0;34m,\u001b[0m \u001b[0mflags\u001b[0m\u001b[0;34m,\u001b[0m \u001b[0mfapl\u001b[0m\u001b[0;34m=\u001b[0m\u001b[0mfapl\u001b[0m\u001b[0;34m)\u001b[0m\u001b[0;34m\u001b[0m\u001b[0;34m\u001b[0m\u001b[0m\n\u001b[0m\u001b[1;32m    171\u001b[0m     \u001b[0;32melif\u001b[0m \u001b[0mmode\u001b[0m \u001b[0;34m==\u001b[0m \u001b[0;34m'r+'\u001b[0m\u001b[0;34m:\u001b[0m\u001b[0;34m\u001b[0m\u001b[0;34m\u001b[0m\u001b[0m\n\u001b[1;32m    172\u001b[0m         \u001b[0mfid\u001b[0m \u001b[0;34m=\u001b[0m \u001b[0mh5f\u001b[0m\u001b[0;34m.\u001b[0m\u001b[0mopen\u001b[0m\u001b[0;34m(\u001b[0m\u001b[0mname\u001b[0m\u001b[0;34m,\u001b[0m \u001b[0mh5f\u001b[0m\u001b[0;34m.\u001b[0m\u001b[0mACC_RDWR\u001b[0m\u001b[0;34m,\u001b[0m \u001b[0mfapl\u001b[0m\u001b[0;34m=\u001b[0m\u001b[0mfapl\u001b[0m\u001b[0;34m)\u001b[0m\u001b[0;34m\u001b[0m\u001b[0;34m\u001b[0m\u001b[0m\n",
      "\u001b[0;32mh5py/_objects.pyx\u001b[0m in \u001b[0;36mh5py._objects.with_phil.wrapper\u001b[0;34m()\u001b[0m\n",
      "\u001b[0;32mh5py/_objects.pyx\u001b[0m in \u001b[0;36mh5py._objects.with_phil.wrapper\u001b[0;34m()\u001b[0m\n",
      "\u001b[0;32mh5py/h5f.pyx\u001b[0m in \u001b[0;36mh5py.h5f.open\u001b[0;34m()\u001b[0m\n",
      "\u001b[0;31mOSError\u001b[0m: Unable to open file (unable to open file: name = '../Data/VHotP3.h5', errno = 2, error message = 'No such file or directory', flags = 0, o_flags = 0)"
     ]
    },
    {
     "data": {
      "image/png": "[encoded data removed]",
      "text/plain": [
       "<Figure size 432x288 with 1 Axes>"
      ]
     },
     "metadata": {
      "needs_background": "light"
     },
     "output_type": "display_data"
    },
    {
     "data": {
      "image/png": "[encoded data removed]",
      "text/plain": [
       "<Figure size 432x288 with 1 Axes>"
      ]
     },
     "metadata": {
      "needs_background": "light"
     },
     "output_type": "display_data"
    },
    {
     "data": {
      "text/plain": [
       "<Figure size 432x288 with 0 Axes>"
      ]
     },
     "metadata": {},
     "output_type": "display_data"
    }
   ],
   "source": [
    "#paramset = np.array(pickle.load( open( \"../python/best_indv_logs/best_indvs_gen_10.pkl\", \"rb\" ) ))\n",
    "paramset = np.array(pickle.load( open( \"../python/best_indvs_final_31_Oct_2020.pkl\", \"rb\" ) ))\n",
    "for reinsert_idx in fixed.keys():\n",
    "    paramset = np.insert(np.array(paramset), reinsert_idx, fixed[reinsert_idx], axis = 1)\n",
    "\n",
    "print(paramset[0])\n",
    "print(orig_params)\n",
    "\n",
    "nstims = len(opt_stim_list)\n",
    "\n",
    "    \n",
    "for i in range(1,8):\n",
    "    plt.figure()\n",
    "    curr_volts = getVolts(i)\n",
    "    plt.plot(curr_volts[0])\n",
    "    plt.plot(target_volts[i,:], color='Red')"
   ]
  },
  {
   "cell_type": "code",
   "execution_count": 10,
   "metadata": {},
   "outputs": [
    {
     "data": {
      "text/plain": [
       "[<matplotlib.lines.Line2D at 0x2aaada484c10>]"
      ]
     },
     "execution_count": 10,
     "metadata": {},
     "output_type": "execute_result"
    },
    {
     "data": {
      "image/png": "[encoded data removed]",
      "text/plain": [
       "<Figure size 432x288 with 1 Axes>"
      ]
     },
     "metadata": {
      "needs_background": "light"
     },
     "output_type": "display_data"
    }
   ],
   "source": [
    "plt.plot(np.genfromtxt(\"../Data/Stim_raw14.csv\"))"
   ]
  },
  {
   "cell_type": "code",
   "execution_count": null,
   "metadata": {},
   "outputs": [],
   "source": []
  }
 ],
 "metadata": {
  "kernelspec": {
   "display_name": "Python 3",
   "language": "python",
   "name": "python3"
  },
  "language_info": {
   "codemirror_mode": {
    "name": "ipython",
    "version": 3
   },
   "file_extension": ".py",
   "mimetype": "text/x-python",
   "name": "python",
   "nbconvert_exporter": "python",
   "pygments_lexer": "ipython3",
   "version": "3.7.4"
  }
 },
 "nbformat": 4,
 "nbformat_minor": 4
}
