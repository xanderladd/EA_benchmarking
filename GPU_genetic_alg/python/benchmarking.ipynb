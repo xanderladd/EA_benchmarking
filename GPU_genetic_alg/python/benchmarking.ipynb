{
 "cells": [
  {
   "cell_type": "code",
   "execution_count": 1,
   "metadata": {},
   "outputs": [],
   "source": [
    "import numpy as np\n",
    "import matplotlib.pyplot as plt\n",
    "import re\n",
    "import os\n",
    "import pstats\n",
    "import sys\n",
    "import io\n",
    "import pandas as pd"
   ]
  },
  {
   "cell_type": "code",
   "execution_count": 2,
   "metadata": {},
   "outputs": [],
   "source": [
    "planDict = {}\n",
    "with open(\"benchmark_plan.txt\", \"r\") as file:\n",
    "    for line in file.readlines():\n",
    "        vals = line.split(\"=\")\n",
    "        if len(vals) != 2 and \"\\n\" not in vals:\n",
    "            raise Exception(\"Error in line:\\n\" + line + \"\\nPlease include only one = per line.\")\n",
    "        if \"\\n\" not in vals:\n",
    "            planDict[vals[0]] = vals[1][:len(vals[1])-1]"
   ]
  },
  {
   "cell_type": "code",
   "execution_count": 3,
   "metadata": {},
   "outputs": [
    {
     "data": {
      "text/plain": [
       "{'nGens': '3',\n",
       " 'offspring': '100,500',\n",
       " 'cpuTrials': '1,5,10,20,35,50,65,80',\n",
       " 'N': '1',\n",
       " 'clean': 'Fals'}"
      ]
     },
     "execution_count": 3,
     "metadata": {},
     "output_type": "execute_result"
    }
   ],
   "source": [
    "planDict"
   ]
  },
  {
   "cell_type": "code",
   "execution_count": 4,
   "metadata": {},
   "outputs": [
    {
     "data": {
      "text/plain": [
       "Text(0.5, 0, 'Number of CPUS')"
      ]
     },
     "execution_count": 4,
     "metadata": {},
     "output_type": "execute_result"
    },
    {
     "data": {
      "image/png": "[encoded data removed]",
      "text/plain": [
       "<Figure size 432x288 with 1 Axes>"
      ]
     },
     "metadata": {
      "needs_background": "light"
     },
     "output_type": "display_data"
    }
   ],
   "source": [
    "res = {}\n",
    "cpus = np.array([int(elem) for elem in planDict['cpuTrials'].split(\",\")])\n",
    "cpus = cpus[cpus < 44]\n",
    "offspring = [int(elem) for elem in planDict['offspring'].split(\",\")] \n",
    "\n",
    "def readLog(cpu, offspring, nodes=1):\n",
    "    runtimes = []\n",
    "    with open(\"runTimeLogs/{}C{}N_{}O.log\".format(cpu,nodes, offspring) \\\n",
    "              , \"r\") as file:\n",
    "        for line in file.readlines():\n",
    "            if \"nCpus\" in line:\n",
    "                nCpus = int(re.match('.*?([0-9]+)$', line).group(1))\n",
    "                assert nCpus  == cpu, \"expected {} but got {} cpus in log\".format(cpu,nCpus)\n",
    "            if \"took:\" in line:\n",
    "                runtime = float(re.findall(r\"[-+]?\\d*\\.\\d+|\\d+\",line)[1])\n",
    "                #print(runtime)\n",
    "                runtimes.append(runtime)\n",
    "    return runtimes\n",
    "\n",
    "\n",
    "for cpu in cpus:\n",
    "    res[cpu] = readLog(cpu=cpu,offspring=500)\n",
    "resMean = [np.mean(res[key]) for key in res.keys()]\n",
    "resStd = [np.std(res[key]) for key in res.keys()]\n",
    "\n",
    "plt.bar(list(res.keys()), resMean, yerr=resStd,width=2)\n",
    "plt.title(\"Single Node Parallel for 500 Pop. Size\")\n",
    "plt.ylabel(\"Time (s)\")\n",
    "plt.xlabel(\"Number of CPUS\")"
   ]
  },
  {
   "cell_type": "raw",
   "metadata": {},
   "source": []
  },
  {
   "cell_type": "code",
   "execution_count": 5,
   "metadata": {},
   "outputs": [
    {
     "ename": "FileNotFoundError",
     "evalue": "[Errno 2] No such file or directory: 'runTimeLogs/1C1N_1000O.log'",
     "output_type": "error",
     "traceback": [
      "\u001b[0;31m---------------------------------------------------------------------------\u001b[0m",
      "\u001b[0;31mFileNotFoundError\u001b[0m                         Traceback (most recent call last)",
      "\u001b[0;32m<ipython-input-5-dab6a72f437f>\u001b[0m in \u001b[0;36m<module>\u001b[0;34m\u001b[0m\n\u001b[1;32m      1\u001b[0m \u001b[0mres2\u001b[0m \u001b[0;34m=\u001b[0m \u001b[0;34m{\u001b[0m\u001b[0;34m}\u001b[0m\u001b[0;34m\u001b[0m\u001b[0;34m\u001b[0m\u001b[0m\n\u001b[1;32m      2\u001b[0m \u001b[0;32mfor\u001b[0m \u001b[0mcpu\u001b[0m \u001b[0;32min\u001b[0m \u001b[0mcpus\u001b[0m\u001b[0;34m:\u001b[0m\u001b[0;34m\u001b[0m\u001b[0;34m\u001b[0m\u001b[0m\n\u001b[0;32m----> 3\u001b[0;31m     \u001b[0mres2\u001b[0m\u001b[0;34m[\u001b[0m\u001b[0mcpu\u001b[0m\u001b[0;34m]\u001b[0m \u001b[0;34m=\u001b[0m \u001b[0mreadLog\u001b[0m\u001b[0;34m(\u001b[0m\u001b[0mcpu\u001b[0m\u001b[0;34m=\u001b[0m\u001b[0mcpu\u001b[0m\u001b[0;34m,\u001b[0m\u001b[0moffspring\u001b[0m\u001b[0;34m=\u001b[0m\u001b[0;36m1000\u001b[0m\u001b[0;34m)\u001b[0m\u001b[0;34m\u001b[0m\u001b[0;34m\u001b[0m\u001b[0m\n\u001b[0m\u001b[1;32m      4\u001b[0m \u001b[0mresMean2\u001b[0m \u001b[0;34m=\u001b[0m \u001b[0mnp\u001b[0m\u001b[0;34m.\u001b[0m\u001b[0marray\u001b[0m\u001b[0;34m(\u001b[0m\u001b[0;34m[\u001b[0m\u001b[0mnp\u001b[0m\u001b[0;34m.\u001b[0m\u001b[0mmean\u001b[0m\u001b[0;34m(\u001b[0m\u001b[0mres2\u001b[0m\u001b[0;34m[\u001b[0m\u001b[0mkey\u001b[0m\u001b[0;34m]\u001b[0m\u001b[0;34m)\u001b[0m \u001b[0;32mfor\u001b[0m \u001b[0mkey\u001b[0m \u001b[0;32min\u001b[0m \u001b[0mres2\u001b[0m\u001b[0;34m.\u001b[0m\u001b[0mkeys\u001b[0m\u001b[0;34m(\u001b[0m\u001b[0;34m)\u001b[0m\u001b[0;34m]\u001b[0m\u001b[0;34m)\u001b[0m\u001b[0;34m\u001b[0m\u001b[0;34m\u001b[0m\u001b[0m\n\u001b[1;32m      5\u001b[0m \u001b[0mresStd2\u001b[0m \u001b[0;34m=\u001b[0m \u001b[0mnp\u001b[0m\u001b[0;34m.\u001b[0m\u001b[0marray\u001b[0m\u001b[0;34m(\u001b[0m\u001b[0;34m[\u001b[0m\u001b[0mnp\u001b[0m\u001b[0;34m.\u001b[0m\u001b[0mstd\u001b[0m\u001b[0;34m(\u001b[0m\u001b[0mres2\u001b[0m\u001b[0;34m[\u001b[0m\u001b[0mkey\u001b[0m\u001b[0;34m]\u001b[0m\u001b[0;34m)\u001b[0m \u001b[0;32mfor\u001b[0m \u001b[0mkey\u001b[0m \u001b[0;32min\u001b[0m \u001b[0mres2\u001b[0m\u001b[0;34m.\u001b[0m\u001b[0mkeys\u001b[0m\u001b[0;34m(\u001b[0m\u001b[0;34m)\u001b[0m\u001b[0;34m]\u001b[0m\u001b[0;34m)\u001b[0m\u001b[0;34m\u001b[0m\u001b[0;34m\u001b[0m\u001b[0m\n",
      "\u001b[0;32m<ipython-input-4-5bf8603de279>\u001b[0m in \u001b[0;36mreadLog\u001b[0;34m(cpu, offspring, nodes)\u001b[0m\n\u001b[1;32m      6\u001b[0m \u001b[0;32mdef\u001b[0m \u001b[0mreadLog\u001b[0m\u001b[0;34m(\u001b[0m\u001b[0mcpu\u001b[0m\u001b[0;34m,\u001b[0m \u001b[0moffspring\u001b[0m\u001b[0;34m,\u001b[0m \u001b[0mnodes\u001b[0m\u001b[0;34m=\u001b[0m\u001b[0;36m1\u001b[0m\u001b[0;34m)\u001b[0m\u001b[0;34m:\u001b[0m\u001b[0;34m\u001b[0m\u001b[0;34m\u001b[0m\u001b[0m\n\u001b[1;32m      7\u001b[0m     \u001b[0mruntimes\u001b[0m \u001b[0;34m=\u001b[0m \u001b[0;34m[\u001b[0m\u001b[0;34m]\u001b[0m\u001b[0;34m\u001b[0m\u001b[0;34m\u001b[0m\u001b[0m\n\u001b[0;32m----> 8\u001b[0;31m     with open(\"runTimeLogs/{}C{}N_{}O.log\".format(cpu,nodes, offspring) \\\n\u001b[0m\u001b[1;32m      9\u001b[0m               , \"r\") as file:\n\u001b[1;32m     10\u001b[0m         \u001b[0;32mfor\u001b[0m \u001b[0mline\u001b[0m \u001b[0;32min\u001b[0m \u001b[0mfile\u001b[0m\u001b[0;34m.\u001b[0m\u001b[0mreadlines\u001b[0m\u001b[0;34m(\u001b[0m\u001b[0;34m)\u001b[0m\u001b[0;34m:\u001b[0m\u001b[0;34m\u001b[0m\u001b[0;34m\u001b[0m\u001b[0m\n",
      "\u001b[0;31mFileNotFoundError\u001b[0m: [Errno 2] No such file or directory: 'runTimeLogs/1C1N_1000O.log'"
     ]
    }
   ],
   "source": [
    "res2 = {}\n",
    "for cpu in cpus:\n",
    "    res2[cpu] = readLog(cpu=cpu,offspring=1000)\n",
    "resMean2 = np.array([np.mean(res2[key]) for key in res2.keys()])\n",
    "resStd2 = np.array([np.std(res2[key]) for key in res2.keys()])\n",
    "\n",
    "plt.plot(list(res.keys()), resMean, color=\"green\")\n",
    "plt.scatter(list(res.keys()), resMean, marker=\"o\", color=\"green\", label=\"500 pop size\")\n",
    "plt.fill_between(list(res2.keys()), resMean2-resStd2, resMean2+resStd2, alpha=0.5)\n",
    "plt.plot(list(res2.keys()), resMean2, color=\"blue\")\n",
    "plt.scatter(list(res2.keys()), resMean2, marker=\"o\", color=\"blue\", label=\"1000 pop size\")\n",
    "\n",
    "print()\n",
    "plt.plot(list(res.keys()), resMean, color=\"green\")\n",
    "plt.scatter(list(res.keys()), resMean, marker=\"o\", color=\"green\", label=\"ideal\")\n",
    "plt.ylabel(\"Time (s)\")\n",
    "plt.xlabel(\"Number of CPUS\")\n",
    "plt.legend()"
   ]
  },
  {
   "cell_type": "code",
   "execution_count": null,
   "metadata": {},
   "outputs": [],
   "source": [
    "allExps = []\n",
    "for cpu in cpus:\n",
    "    resDict = {}\n",
    "    for pop in offspring[:4]:\n",
    "        resDict[pop] = readLog(cpu=cpu,offspring=pop)\n",
    "    allExps.append(resDict)\n",
    "    \n",
    "def plotDict(res, label=\"1 cpu\", color=\"blue\", marker=\"o\"):\n",
    "    resMean = np.array([np.mean(res[key]) for key in res.keys()])\n",
    "    resStd = np.array([np.std(res[key]) for key in res.keys()])\n",
    "    plt.fill_between(list(res.keys()), resMean-resStd, resMean+resStd, alpha=0.2, color=color)\n",
    "    plt.plot(list(res.keys()), resMean, color=color)\n",
    "    plt.scatter(list(res.keys()), resMean, marker=\"o\", color=color, label=label)\n",
    "    \n",
    "def get_cmap(n, name='hsv'):\n",
    "    '''Returns a function that maps each index in 0, 1, ..., n-1 to a distinct \n",
    "    RGB color; the keyword argument name must be a standard mpl colormap name.'''\n",
    "    return plt.cm.get_cmap(name, n)\n",
    "\n",
    "\n",
    "plt.figure(figsize=(10,8))\n",
    "cmap = [get_cmap(len(allExps))(i) for i in range(len(allExps))]\n",
    "labels = [str(cpu) + \" cpus\" for cpu in cpus]\n",
    "[plotDict(exp, label=label, color=color) for exp,color,label in zip(allExps, cmap, labels)]\n",
    "    \n",
    "plt.ylabel(\"Time (s)\")\n",
    "plt.ylim(0,400)\n",
    "plt.xlabel(\"Pop Size\")\n",
    "plt.legend()\n",
    "plt.savefig(\"3plots.png\",bbox_inches = 'tight')\n"
   ]
  },
  {
   "cell_type": "code",
   "execution_count": null,
   "metadata": {},
   "outputs": [],
   "source": [
    "numPlots = len(list(allExps[0].keys()))\n",
    "fig, axs = plt.subplots(nrows=numPlots, ncols=1, figsize=(7,15))\n",
    "plt.subplots_adjust(bottom=.2, top=2)\n",
    "pops =  list(allExps[0].keys())\n",
    "for i in range(numPlots):\n",
    "    curr_pop = pops[i]\n",
    "    curr_cpu_mean_time = {}\n",
    "    curr_cpu_std_time = {}\n",
    "    for exp,cpu in zip(allExps,cpus):\n",
    "        curr_cpu_mean_time[cpu] = np.mean(exp[curr_pop])\n",
    "        curr_cpu_std_time[cpu] = np.std(exp[curr_pop])\n",
    "    meanList = np.array(list(curr_cpu_mean_time.values()))\n",
    "    stdList = np.array(list(curr_cpu_std_time.values()))\n",
    "    maxTime = np.mean(allExps[0][curr_pop])\n",
    "    idealTime = [maxTime / cpu for cpu in cpus]\n",
    "    axs[i].scatter(curr_cpu_mean_time.keys(),curr_cpu_mean_time.values(), marker=\"o\", color=\"blue\")\n",
    "    axs[i].plot(list(curr_cpu_mean_time.keys()),\\\n",
    "                list(curr_cpu_mean_time.values()), color=\"blue\", label=\"actual runtime\")\n",
    "    axs[i].scatter(curr_cpu_mean_time.keys(),idealTime, marker=\"*\", color=\"red\")\n",
    "    axs[i].plot(list(curr_cpu_mean_time.keys()),\\\n",
    "                idealTime, color=\"red\", label=\"ideal runtime\")\n",
    "    axs[i].set_ylabel(\"Log Time (s)\")\n",
    "    axs[i].set_title(\"Speedup for Pop size: \" + str(curr_pop))\n",
    "    axs[i].set_xlabel(\"Number of CPUS\")\n",
    "    axs[i].set_yscale('log')\n",
    "    axs[i].legend()\n",
    "    axs[i].fill_between(list(curr_cpu_mean_time.keys()), meanList-stdList, meanList+stdList, alpha=0.5)\n",
    "plt.savefig(\"4plots.png\",bbox_inches = 'tight')\n",
    "    \n",
    "    "
   ]
  },
  {
   "cell_type": "code",
   "execution_count": null,
   "metadata": {},
   "outputs": [],
   "source": [
    "# def processLog(f):\n",
    "#     with open(f, \"r\") as file:\n",
    "#         startEndPairs = []\n",
    "#         runtimes = []\n",
    "#         sfs = []\n",
    "#         neuroGPUStartTimes = []\n",
    "#         neuroGPUEndTimes = []\n",
    "#         procToSf = {}\n",
    "#         procStartDict = {}\n",
    "#         procEndDict = {}\n",
    "#         compStartDict = {}\n",
    "#         io_times = []\n",
    "#         file_lines =file.readlines()\n",
    "#         readingEnds = False\n",
    "#         readingStarts = False\n",
    "#         for line in file_lines:\n",
    "#             print(line)\n",
    "#             if \"absolute start\" in line:\n",
    "#                 numbers = re.findall(r'\\d+', line)\n",
    "#                 abs_start = [ '.'.join(x) for x in zip(numbers[0::2], numbers[1::2]) ][0]\n",
    "#             if \"nCpus\" in line:\n",
    "#                 nCpus = int(re.match('.*?([0-9]+)$', line).group(1))\n",
    "#                 #assert nCpus  == cpu, \"expected {} but got {} cpus in log\".format(cpu,nCpus)\n",
    "#             if \"took:\" in line:\n",
    "#                 runtime = float(re.findall(r\"[-+]?\\d*\\.\\d+|\\d+\",line)[1])\n",
    "#                 #print(runtime)\n",
    "#                 runtimes.append(runtime)\n",
    "#             if \"launched PIDS\" in line:\n",
    "#                 start = re.findall(r'\\d+', line)[0] # second half is in miliseconds, don't need that precision\n",
    "                \n",
    "#             if \"finished PIDS\" in line:\n",
    "#                 end = re.findall(r'\\d+', line)[0] \n",
    "#                 startEndPairs.append((start,end))\n",
    "#             if \"process\"  in line and \"started\" in line:\n",
    "#                 stSplit = line.split(\" \")\n",
    "#                 sf = [stSplit[i] for i in range(2,len(stSplit)-2) if stSplit[i-1] == \"is\" and  stSplit[i+1] == \"and\"][0]\n",
    "#                 sfs.append(sf)\n",
    "#                 line = re.sub(r'(?<=is)(.*)(?=and)', \"\", line)\n",
    "#                 numbers = re.findall(r'\\d+', line)\n",
    "\n",
    "#                 procToSf[numbers[0]] = sf\n",
    "#                 procStartDict[numbers[0]] = numbers[1]\n",
    "#             if \"returning\" in line:\n",
    "#                 numbers = re.findall(r'\\d+', line)\n",
    "#                 procEndDict[numbers[0]] = numbers[1]\n",
    "#             if \"computing\" in line:\n",
    "#                 numbers = re.findall(r'\\d+', line)\n",
    "#                 compStartDict[numbers[0]] = numbers[1]\n",
    "#             if \"evaluation:\" in line:\n",
    "#                 numbers = re.findall(r'\\d+', line)\n",
    "#                 numbers = [ '.'.join(x) for x in zip(numbers[0::2], numbers[1::2]) ]\n",
    "#                 evalTimes = np.array(list(numbers), dtype=np.float32)\n",
    "#                 avgEval = np.mean(evalTimes)\n",
    "#             if \"neuroGPU\" in line and \"starts\" not in line and \"ends\" not in line:\n",
    "#                 numbers = re.findall(r'\\d+', line)\n",
    "#                 numbers = [ '.'.join(x) for x in zip(numbers[0::2], numbers[1::2]) ]\n",
    "#                 neuroGPUTimes = np.array(list(numbers),dtype=np.float32)\n",
    "#                 avgNGPU = np.mean(neuroGPUTimes)\n",
    "#             if (\"neuroGPU\" in line and \"starts\" in line and \"ends\" not in line) or readingEnds:\n",
    "#                 readingEnds = True\n",
    "#                 numbers = re.findall(r'\\d+', line)\n",
    "#                 numbers = [ '.'.join([x1,x2]) + \"e+\" + str(x3) for x1,x2,x3 in zip(numbers[0::3], numbers[1::3], numbers[2::3]) ]\n",
    "#                 neuroGPUStartTimes += numbers\n",
    "#                 if \"]\" in line:\n",
    "#                     readingEnds = False\n",
    "#             if (\"neuroGPU\" in line and \"starts\" not in line and \"ends\" in line) or readingStarts:\n",
    "#                 readingStarts = True\n",
    "#                 numbers = re.findall(r'\\d+', line)\n",
    "#                 numbers = [ '.'.join([x1,x2]) + \"e+\" + str(x3) for x1,x2,x3 in zip(numbers[0::3], numbers[1::3], numbers[2::3]) ]\n",
    "#                 neuroGPUEndTimes += numbers\n",
    "#                 if \"]\" in line:\n",
    "#                     readingStarts = False\n",
    "#             if \"IO:\" in line:\n",
    "#                 numbers = re.findall(r'\\d+', line)\n",
    "#                 numbers = [ '.'.join([x1,x2]) + \"e+\" + str(x3) for x1,x2,x3 in zip(numbers[0::3], numbers[1::3], numbers[2::3]) ]\n",
    "#                 io_times.append(numbers)\n",
    "            \n",
    "#     res = {\"procStartDict\": procStartDict,\"procEndDict\": procEndDict,\\\n",
    "#            \"startEndPairs\": startEndPairs,\"runtimes\": runtimes,\\\n",
    "#            \"compStartDict\": compStartDict,\"sfs\": sfs,\\\n",
    "#            \"evalTimes\": evalTimes,\"neuroGPUTimes\": neuroGPUTimes,\\\n",
    "#           \"procToSf\": procToSf, \"absStart\": abs_start, \\\n",
    "#            \"neuroGPUStartTimes\": neuroGPUStartTimes, \\\n",
    "#            \"neuroGPUEndTimes\": neuroGPUEndTimes, \"ioTimes\": io_times}\n",
    "#     return res\n",
    "# f  = \"runTimeLogs/{}C{}N_{}O.log\".format(80,1, 1000)\n",
    "# logRes = processLog(f)"
   ]
  },
  {
   "cell_type": "code",
   "execution_count": 47,
   "metadata": {},
   "outputs": [],
   "source": [
    "def processLog(f):\n",
    "    with open(f, \"r\") as file:\n",
    "        startEndPairs = []\n",
    "        runtimes = []\n",
    "        sfs = []\n",
    "        neuroGPUStartTimes = []\n",
    "        neuroGPUEndTimes = []\n",
    "        procToSf = {}\n",
    "        procStartDict = {}\n",
    "        procEndDict = {}\n",
    "        compStartDict = {}\n",
    "        io_times = []\n",
    "        file_lines =file.readlines()\n",
    "        readingEnds = False\n",
    "        readingStarts = False\n",
    "        for line in file_lines:\n",
    "            if \"Date:\" in line:\n",
    "                print(line)\n",
    "            if \"absolute start\" in line:\n",
    "                numbers = re.findall(r'\\d+', line)\n",
    "                abs_start = [ '.'.join(x) for x in zip(numbers[0::2], numbers[1::2]) ][0]\n",
    "            if \"nCpus\" in line:\n",
    "                nCpus = int(re.match('.*?([0-9]+)$', line).group(1))\n",
    "                #assert nCpus  == cpu, \"expected {} but got {} cpus in log\".format(cpu,nCpus)\n",
    "            if \"took:\" in line:\n",
    "                runtime = float(re.findall(r\"[-+]?\\d*\\.\\d+|\\d+\",line)[1])\n",
    "                #print(runtime)\n",
    "                runtimes.append(runtime)\n",
    "            if \"launched PIDS\" in line:\n",
    "                start = re.findall(r'\\d+', line)[0] # second half is in miliseconds, don't need that precision\n",
    "                \n",
    "            if \"finished PIDS\" in line:\n",
    "                end = re.findall(r'\\d+', line)[0] \n",
    "                startEndPairs.append((start,end))\n",
    "            if \"process\"  in line and \"started\" in line:\n",
    "                stSplit = line.split(\" \")\n",
    "                sf = [stSplit[i] for i in range(2,len(stSplit)-2) if stSplit[i-1] == \"is\" and  stSplit[i+1] == \"and\"][0]\n",
    "                sfs.append(sf)\n",
    "                line = re.sub(r'(?<=is)(.*)(?=and)', \"\", line)\n",
    "                numbers = re.findall(r'\\d+', line)\n",
    "\n",
    "                procToSf[numbers[0]] = sf\n",
    "                if numbers[0] in procStartDict.keys():\n",
    "                    procStartDict[numbers[0]].append(numbers[1])\n",
    "                else:\n",
    "                    procStartDict[numbers[0]] = [numbers[1]]\n",
    "            if \"returning\" in line:\n",
    "                numbers = re.findall(r'\\d+', line)\n",
    "                if numbers[0] in procEndDict.keys():\n",
    "                    procEndDict[numbers[0]].append(numbers[1])\n",
    "                else:\n",
    "                    procEndDict[numbers[0]] = [numbers[1]]\n",
    "            if \"computing\" in line:\n",
    "                numbers = re.findall(r'\\d+', line)\n",
    "                if numbers[0] in compStartDict.keys():\n",
    "                    compStartDict[numbers[0]].append(numbers[1])\n",
    "                else:\n",
    "                    compStartDict[numbers[0]] = [numbers[1]]\n",
    "            if \"evaluation:\" in line:\n",
    "                numbers = re.findall(r'\\d+', line)\n",
    "                numbers = [ '.'.join(x) for x in zip(numbers[0::2], numbers[1::2]) ]\n",
    "                evalTimes = np.array(list(numbers), dtype=np.float32)\n",
    "                avgEval = np.mean(evalTimes)\n",
    "            if \"neuroGPU\" in line and \"starts\" not in line and \"ends\" not in line:\n",
    "                numbers = re.findall(r'\\d+', line)\n",
    "                numbers = [ '.'.join(x) for x in zip(numbers[0::2], numbers[1::2]) ]\n",
    "                neuroGPUTimes = np.array(list(numbers),dtype=np.float32)\n",
    "                avgNGPU = np.mean(neuroGPUTimes)\n",
    "            if (\"neuroGPU\" in line and \"starts\" in line and \"ends\" not in line) or readingEnds:\n",
    "                readingEnds = True\n",
    "                numbers = re.findall(r'\\d+', line)\n",
    "                numbers = [ '.'.join([x1,x2]) + \"e+\" + str(x3) for x1,x2,x3 in zip(numbers[0::3], numbers[1::3], numbers[2::3]) ]\n",
    "                neuroGPUStartTimes += numbers\n",
    "                if \"]\" in line:\n",
    "                    readingEnds = False\n",
    "            if (\"neuroGPU\" in line and \"starts\" not in line and \"ends\" in line) or readingStarts:\n",
    "                readingStarts = True\n",
    "                numbers = re.findall(r'\\d+', line)\n",
    "                numbers = [ '.'.join([x1,x2]) + \"e+\" + str(x3) for x1,x2,x3 in zip(numbers[0::3], numbers[1::3], numbers[2::3]) ]\n",
    "                neuroGPUEndTimes += numbers\n",
    "                if \"]\" in line:\n",
    "                    readingStarts = False\n",
    "            if \"IO:\" in line:\n",
    "                numbers = re.findall(r'\\d+', line)\n",
    "                numbers = [ '.'.join([x1,x2]) + \"e+\" + str(x3) for x1,x2,x3 in zip(numbers[0::3], numbers[1::3], numbers[2::3]) ]\n",
    "                io_times.append(numbers)\n",
    "            if \"gen1 took\" in line:\n",
    "                break\n",
    "            \n",
    "    res = {\"procStartDict\": procStartDict,\"procEndDict\": procEndDict,\\\n",
    "           \"startEndPairs\": startEndPairs,\"runtimes\": runtimes,\\\n",
    "           \"compStartDict\": compStartDict,\"sfs\": sfs,\\\n",
    "           \"evalTimes\": evalTimes,\"neuroGPUTimes\": neuroGPUTimes,\\\n",
    "          \"procToSf\": procToSf, \"absStart\": abs_start, \\\n",
    "           \"neuroGPUStartTimes\": neuroGPUStartTimes, \\\n",
    "           \"neuroGPUEndTimes\": neuroGPUEndTimes, \"ioTimes\": io_times}\n",
    "    return res\n",
    "f  = \"runTimeLogs/{}C{}N_{}O.log\".format(80,1, 1000)\n",
    "logRes = processLog(f)"
   ]
  },
  {
   "cell_type": "code",
   "execution_count": 48,
   "metadata": {},
   "outputs": [
    {
     "ename": "FileNotFoundError",
     "evalue": "[Errno 2] No such file or directory: 'runTimeLogs/runTime.log'",
     "output_type": "error",
     "traceback": [
      "\u001b[0;31m---------------------------------------------------------------------------\u001b[0m",
      "\u001b[0;31mFileNotFoundError\u001b[0m                         Traceback (most recent call last)",
      "\u001b[0;32m<ipython-input-48-e3ea40a1cd71>\u001b[0m in \u001b[0;36m<module>\u001b[0;34m\u001b[0m\n\u001b[1;32m      1\u001b[0m \u001b[0mf\u001b[0m  \u001b[0;34m=\u001b[0m \u001b[0;34m\"runTimeLogs/runTime.log\"\u001b[0m\u001b[0;34m\u001b[0m\u001b[0;34m\u001b[0m\u001b[0m\n\u001b[0;32m----> 2\u001b[0;31m \u001b[0mlogRes\u001b[0m \u001b[0;34m=\u001b[0m \u001b[0mprocessLog\u001b[0m\u001b[0;34m(\u001b[0m\u001b[0mf\u001b[0m\u001b[0;34m)\u001b[0m\u001b[0;34m\u001b[0m\u001b[0;34m\u001b[0m\u001b[0m\n\u001b[0m\u001b[1;32m      3\u001b[0m \u001b[0;31m#logRes['procStartDict']\u001b[0m\u001b[0;34m\u001b[0m\u001b[0;34m\u001b[0m\u001b[0;34m\u001b[0m\u001b[0m\n",
      "\u001b[0;32m<ipython-input-47-f15de6e6db3b>\u001b[0m in \u001b[0;36mprocessLog\u001b[0;34m(f)\u001b[0m\n\u001b[1;32m      1\u001b[0m \u001b[0;32mdef\u001b[0m \u001b[0mprocessLog\u001b[0m\u001b[0;34m(\u001b[0m\u001b[0mf\u001b[0m\u001b[0;34m)\u001b[0m\u001b[0;34m:\u001b[0m\u001b[0;34m\u001b[0m\u001b[0;34m\u001b[0m\u001b[0m\n\u001b[0;32m----> 2\u001b[0;31m     \u001b[0;32mwith\u001b[0m \u001b[0mopen\u001b[0m\u001b[0;34m(\u001b[0m\u001b[0mf\u001b[0m\u001b[0;34m,\u001b[0m \u001b[0;34m\"r\"\u001b[0m\u001b[0;34m)\u001b[0m \u001b[0;32mas\u001b[0m \u001b[0mfile\u001b[0m\u001b[0;34m:\u001b[0m\u001b[0;34m\u001b[0m\u001b[0;34m\u001b[0m\u001b[0m\n\u001b[0m\u001b[1;32m      3\u001b[0m         \u001b[0mstartEndPairs\u001b[0m \u001b[0;34m=\u001b[0m \u001b[0;34m[\u001b[0m\u001b[0;34m]\u001b[0m\u001b[0;34m\u001b[0m\u001b[0;34m\u001b[0m\u001b[0m\n\u001b[1;32m      4\u001b[0m         \u001b[0mruntimes\u001b[0m \u001b[0;34m=\u001b[0m \u001b[0;34m[\u001b[0m\u001b[0;34m]\u001b[0m\u001b[0;34m\u001b[0m\u001b[0;34m\u001b[0m\u001b[0m\n\u001b[1;32m      5\u001b[0m         \u001b[0msfs\u001b[0m \u001b[0;34m=\u001b[0m \u001b[0;34m[\u001b[0m\u001b[0;34m]\u001b[0m\u001b[0;34m\u001b[0m\u001b[0;34m\u001b[0m\u001b[0m\n",
      "\u001b[0;31mFileNotFoundError\u001b[0m: [Errno 2] No such file or directory: 'runTimeLogs/runTime.log'"
     ]
    }
   ],
   "source": [
    "f  = \"runTimeLogs/runTime.log\"\n",
    "logRes = processLog(f)\n",
    "#logRes['procStartDict']"
   ]
  },
  {
   "cell_type": "code",
   "execution_count": 49,
   "metadata": {},
   "outputs": [],
   "source": [
    "# logRes[\"ioTimes\"]\n",
    "# logRes[\"procStartDict\"]"
   ]
  },
  {
   "cell_type": "code",
   "execution_count": 50,
   "metadata": {},
   "outputs": [],
   "source": [
    "import pandas as pd"
   ]
  },
  {
   "cell_type": "code",
   "execution_count": 51,
   "metadata": {},
   "outputs": [
    {
     "ename": "TypeError",
     "evalue": "float() argument must be a string or a number, not 'list'",
     "output_type": "error",
     "traceback": [
      "\u001b[0;31m---------------------------------------------------------------------------\u001b[0m",
      "\u001b[0;31mTypeError\u001b[0m                                 Traceback (most recent call last)",
      "\u001b[0;32m<ipython-input-51-35456b8bb04b>\u001b[0m in \u001b[0;36m<module>\u001b[0;34m\u001b[0m\n\u001b[1;32m     11\u001b[0m         \u001b[0msfs_to_runtime\u001b[0m\u001b[0;34m[\u001b[0m\u001b[0msfsMap\u001b[0m\u001b[0;34m[\u001b[0m\u001b[0mkey\u001b[0m\u001b[0;34m]\u001b[0m\u001b[0;34m]\u001b[0m\u001b[0;34m.\u001b[0m\u001b[0mappend\u001b[0m\u001b[0;34m(\u001b[0m\u001b[0mfloat\u001b[0m\u001b[0;34m(\u001b[0m\u001b[0mend\u001b[0m\u001b[0;34m)\u001b[0m \u001b[0;34m-\u001b[0m\u001b[0mfloat\u001b[0m\u001b[0;34m(\u001b[0m\u001b[0mstart\u001b[0m\u001b[0;34m)\u001b[0m\u001b[0;34m)\u001b[0m\u001b[0;34m\u001b[0m\u001b[0;34m\u001b[0m\u001b[0m\n\u001b[1;32m     12\u001b[0m     \u001b[0;32melse\u001b[0m\u001b[0;34m:\u001b[0m\u001b[0;34m\u001b[0m\u001b[0;34m\u001b[0m\u001b[0m\n\u001b[0;32m---> 13\u001b[0;31m         \u001b[0msfs_to_runtime\u001b[0m\u001b[0;34m[\u001b[0m\u001b[0msfsMap\u001b[0m\u001b[0;34m[\u001b[0m\u001b[0mkey\u001b[0m\u001b[0;34m]\u001b[0m\u001b[0;34m]\u001b[0m \u001b[0;34m=\u001b[0m \u001b[0;34m[\u001b[0m\u001b[0mfloat\u001b[0m\u001b[0;34m(\u001b[0m\u001b[0mend\u001b[0m\u001b[0;34m)\u001b[0m \u001b[0;34m-\u001b[0m\u001b[0mfloat\u001b[0m\u001b[0;34m(\u001b[0m\u001b[0mstart\u001b[0m\u001b[0;34m)\u001b[0m\u001b[0;34m]\u001b[0m\u001b[0;34m\u001b[0m\u001b[0;34m\u001b[0m\u001b[0m\n\u001b[0m\u001b[1;32m     14\u001b[0m \u001b[0;34m\u001b[0m\u001b[0m\n\u001b[1;32m     15\u001b[0m \u001b[0msf_labels\u001b[0m \u001b[0;34m=\u001b[0m \u001b[0mnp\u001b[0m\u001b[0;34m.\u001b[0m\u001b[0marray\u001b[0m\u001b[0;34m(\u001b[0m\u001b[0mlist\u001b[0m\u001b[0;34m(\u001b[0m\u001b[0msfs_to_runtime\u001b[0m\u001b[0;34m.\u001b[0m\u001b[0mkeys\u001b[0m\u001b[0;34m(\u001b[0m\u001b[0;34m)\u001b[0m\u001b[0;34m)\u001b[0m\u001b[0;34m)\u001b[0m\u001b[0;34m\u001b[0m\u001b[0;34m\u001b[0m\u001b[0m\n",
      "\u001b[0;31mTypeError\u001b[0m: float() argument must be a string or a number, not 'list'"
     ]
    }
   ],
   "source": [
    "\n",
    "f  = \"runTimeLogs/{}C{}N_{}O.log\".format(10,1, 500)\n",
    "logRes = processLog(f)\n",
    "procEndDict = logRes['procEndDict']\n",
    "compStartDict = logRes['compStartDict']\n",
    "sfsMap = logRes['procToSf']\n",
    "sfs_to_runtime = {}\n",
    "for key in sfsMap.keys():\n",
    "    start = compStartDict[key]\n",
    "    end = procEndDict[key]\n",
    "    if sfsMap[key]  in sfs_to_runtime:\n",
    "        sfs_to_runtime[sfsMap[key]].append(float(end) -float(start))\n",
    "    else:\n",
    "        sfs_to_runtime[sfsMap[key]] = [float(end) -float(start)]\n",
    "        \n",
    "sf_labels = np.array(list(sfs_to_runtime.keys()))\n",
    "sf_vals = np.array(list(sfs_to_runtime.values()))\n",
    "plt.figure(figsize=(15,5))\n",
    "plt.boxplot(sf_vals, labels=sf_labels)\n",
    "\n",
    "print(1/0)\n",
    "sfTime = np.array([np.array(list(procEndDict.values())).astype(np.float32), np.array(list(procStartDict.values())).astype(np.float32)])\n",
    "print(sfs)\n",
    "print(sfLabels)\n",
    "print(sfTime.shape)\n",
    "#men_std = [2, 3, 4, 1, 2]\n",
    "#women_std = [3, 5, 2, 3, 3]\n",
    "width = 0.35       # the width of the bars: can also be len(x) sequence\n",
    "\n",
    "fig, ax = plt.subplots()\n",
    "\n",
    "ax.boxplot(sfTime)\n",
    "\n",
    "ax.set_ylabel('Time(s)')\n",
    "ax.set_title('Scores by group and gender')\n",
    "ax.legend()\n",
    "\n",
    "plt.show()\n",
    "### TODO: CHANGE TO HISTOGRAM ####"
   ]
  },
  {
   "cell_type": "code",
   "execution_count": null,
   "metadata": {},
   "outputs": [],
   "source": [
    "logRes.keys()"
   ]
  },
  {
   "cell_type": "markdown",
   "metadata": {},
   "source": [
    "https://matplotlib.org/3.1.1/gallery/lines_bars_and_markers/barchart.html#sphx-glr-gallery-lines-bars-and-markers-barchart-py"
   ]
  },
  {
   "cell_type": "code",
   "execution_count": 52,
   "metadata": {},
   "outputs": [
    {
     "name": "stdout",
     "output_type": "stream",
     "text": [
      "  cpus offspring runtime (mean) runtime stddev\n",
      "0    1        10             24              0\n",
      "1   10       100             24              0\n",
      "2   35       500             42              0\n",
      "3   50      1000             75              0\n",
      "4   65      3000            215              0\n",
      "  cpus offspring runtime (mean) runtime stddev\n",
      "0   10      1000            141              0\n",
      "1   20      1000             92              0\n",
      "2   35      1000             83              0\n",
      "3   50      1000             75              0\n"
     ]
    },
    {
     "data": {
      "image/png": "[encoded data removed]",
      "text/plain": [
       "<Figure size 720x1080 with 2 Axes>"
      ]
     },
     "metadata": {
      "needs_background": "light"
     },
     "output_type": "display_data"
    },
    {
     "data": {
      "text/plain": [
       "<Figure size 720x360 with 0 Axes>"
      ]
     },
     "metadata": {},
     "output_type": "display_data"
    },
    {
     "data": {
      "text/plain": [
       "<Figure size 720x360 with 0 Axes>"
      ]
     },
     "metadata": {},
     "output_type": "display_data"
    },
    {
     "data": {
      "text/plain": [
       "<Figure size 720x360 with 0 Axes>"
      ]
     },
     "metadata": {},
     "output_type": "display_data"
    },
    {
     "data": {
      "text/plain": [
       "<Figure size 720x360 with 0 Axes>"
      ]
     },
     "metadata": {},
     "output_type": "display_data"
    },
    {
     "data": {
      "text/plain": [
       "<Figure size 720x360 with 0 Axes>"
      ]
     },
     "metadata": {},
     "output_type": "display_data"
    },
    {
     "data": {
      "image/png": "[encoded data removed]",
      "text/plain": [
       "<Figure size 720x1080 with 2 Axes>"
      ]
     },
     "metadata": {
      "needs_background": "light"
     },
     "output_type": "display_data"
    },
    {
     "data": {
      "text/plain": [
       "<Figure size 720x360 with 0 Axes>"
      ]
     },
     "metadata": {},
     "output_type": "display_data"
    },
    {
     "data": {
      "text/plain": [
       "<Figure size 720x360 with 0 Axes>"
      ]
     },
     "metadata": {},
     "output_type": "display_data"
    },
    {
     "data": {
      "text/plain": [
       "<Figure size 720x360 with 0 Axes>"
      ]
     },
     "metadata": {},
     "output_type": "display_data"
    },
    {
     "data": {
      "text/plain": [
       "<Figure size 720x360 with 0 Axes>"
      ]
     },
     "metadata": {},
     "output_type": "display_data"
    }
   ],
   "source": [
    "\n",
    "def plot_CPUGPU_bottleneck(cpu_list, offspring_list, nodes=1):\n",
    "    \"\"\"\n",
    "    TODO: consider changing this to be a single plot output\n",
    "    \"\"\"\n",
    "    # INSERT FOR LOOP HERE\n",
    "    fig, axs = plt.subplots(nrows=2, ncols=1, figsize=(10,15))\n",
    "    plt.subplots_adjust(bottom=None, right=None, top=None, wspace=None, hspace=.5)\n",
    "    df = pd.DataFrame(columns=['cpus', 'offspring', 'runtime (mean)', 'runtime stddev' ])\n",
    "\n",
    "\n",
    "    for i in range(len(cpu_list)):\n",
    "        cpu = cpu_list[i]\n",
    "        offspring = offspring_list[i]\n",
    "        f  = \"runTimeLogs/{}C{}N_{}O.log\".format(cpu,nodes, offspring)\n",
    "        logRes = processLog(f)\n",
    "        mean_runtime, std_runtime = np.mean(logRes['runtimes']), np.std(logRes['runtimes'])\n",
    "        mean_eval, std_eval = np.mean(logRes['evalTimes']), np.std(logRes['evalTimes'])\n",
    "        mean_neuroGPU, std_neuroGPU =  np.mean(logRes['neuroGPUTimes']), np.std(logRes['neuroGPUTimes'])\n",
    "        df.loc[i] = [int(cpu),int(offspring),int(mean_runtime), int(std_runtime)]\n",
    "        # Figure size\n",
    "        plt.figure(figsize=(10,5))\n",
    "\n",
    "        # Width of a bar \n",
    "        width = 0.17       \n",
    "        # Plotting\n",
    "        if i == 0:\n",
    "            axs[0].bar(i/1.5, mean_neuroGPU , width, yerr=std_neuroGPU, label='Running time on GPU',color=\"green\")\n",
    "            axs[0].bar(i/1.5 + width, mean_eval, width, yerr=std_eval, label='Running time on CPU', color=\"blue\")\n",
    "        else:\n",
    "            axs[0].bar(i/1.5, mean_neuroGPU , width, yerr=std_neuroGPU,color=\"green\")\n",
    "            axs[0].bar(i/1.5 + width, mean_eval, width, yerr=std_eval, color=\"blue\")\n",
    "            \n",
    "    axs[0].legend(bbox_to_anchor=(1.25, 1), loc='upper right', ncol=1)\n",
    "    axs[0].set_xlabel('CPUs / Population Size')\n",
    "    axs[0].set_xticks(ticks=[i/1.5 for i in range(len(cpu_list))])\n",
    "    axs[0].set_xticklabels(labels=[\"{}/{}\".format(cpu,pop) for cpu, pop in zip(cpu_list,offspring_list)])\n",
    "    axs[0].set_ylabel('time (s)')\n",
    "    axs[0].set_title('CPU is bottleneck ?')\n",
    "    fig.savefig(\"plots/cpu_plot_{}\".format(np.array(cpu_list).astype(str)))\n",
    "    df.to_latex(\"plots/cpu_runTable_{}\".format(np.array(cpu_list).astype(str)))\n",
    "    \n",
    "    \n",
    "    print(df)\n",
    "\n",
    "    \n",
    "plot_CPUGPU_bottleneck([1,10,35,50,65],[10,100,500,1000,3000])\n",
    "plot_CPUGPU_bottleneck([10,20,35,50],[1000,1000,1000,1000,1000])"
   ]
  },
  {
   "cell_type": "code",
   "execution_count": 54,
   "metadata": {},
   "outputs": [
    {
     "name": "stderr",
     "output_type": "stream",
     "text": [
      "<ipython-input-54-ae2eaf3c6759>:14: VisibleDeprecationWarning: Creating an ndarray from ragged nested sequences (which is a list-or-tuple of lists-or-tuples-or ndarrays with different lengths or shapes) is deprecated. If you meant to do this, you must specify 'dtype=object' when creating the ndarray.\n",
      "  computing = np.array(list(procEndDict.values())).astype(np.float32) - np.array(list(compStartDict.values())).astype(np.float32)\n"
     ]
    },
    {
     "ename": "ValueError",
     "evalue": "setting an array element with a sequence.",
     "output_type": "error",
     "traceback": [
      "\u001b[0;31m---------------------------------------------------------------------------\u001b[0m",
      "\u001b[0;31mTypeError\u001b[0m                                 Traceback (most recent call last)",
      "\u001b[0;31mTypeError\u001b[0m: float() argument must be a string or a number, not 'list'",
      "\nThe above exception was the direct cause of the following exception:\n",
      "\u001b[0;31mValueError\u001b[0m                                Traceback (most recent call last)",
      "\u001b[0;32m<ipython-input-54-ae2eaf3c6759>\u001b[0m in \u001b[0;36m<module>\u001b[0;34m\u001b[0m\n\u001b[1;32m     12\u001b[0m \u001b[0mofficial_start\u001b[0m \u001b[0;34m=\u001b[0m \u001b[0mfloat\u001b[0m\u001b[0;34m(\u001b[0m\u001b[0mstartEndPairs\u001b[0m\u001b[0;34m[\u001b[0m\u001b[0;34m-\u001b[0m\u001b[0;36m1\u001b[0m\u001b[0;34m]\u001b[0m\u001b[0;34m[\u001b[0m\u001b[0;36m0\u001b[0m\u001b[0;34m]\u001b[0m\u001b[0;34m)\u001b[0m\u001b[0;34m\u001b[0m\u001b[0;34m\u001b[0m\u001b[0m\n\u001b[1;32m     13\u001b[0m \u001b[0mlabels\u001b[0m \u001b[0;34m=\u001b[0m \u001b[0mlist\u001b[0m\u001b[0;34m(\u001b[0m\u001b[0mcompStartDict\u001b[0m\u001b[0;34m.\u001b[0m\u001b[0mkeys\u001b[0m\u001b[0;34m(\u001b[0m\u001b[0;34m)\u001b[0m\u001b[0;34m)\u001b[0m\u001b[0;34m\u001b[0m\u001b[0;34m\u001b[0m\u001b[0m\n\u001b[0;32m---> 14\u001b[0;31m \u001b[0mcomputing\u001b[0m \u001b[0;34m=\u001b[0m \u001b[0mnp\u001b[0m\u001b[0;34m.\u001b[0m\u001b[0marray\u001b[0m\u001b[0;34m(\u001b[0m\u001b[0mlist\u001b[0m\u001b[0;34m(\u001b[0m\u001b[0mprocEndDict\u001b[0m\u001b[0;34m.\u001b[0m\u001b[0mvalues\u001b[0m\u001b[0;34m(\u001b[0m\u001b[0;34m)\u001b[0m\u001b[0;34m)\u001b[0m\u001b[0;34m)\u001b[0m\u001b[0;34m.\u001b[0m\u001b[0mastype\u001b[0m\u001b[0;34m(\u001b[0m\u001b[0mnp\u001b[0m\u001b[0;34m.\u001b[0m\u001b[0mfloat32\u001b[0m\u001b[0;34m)\u001b[0m \u001b[0;34m-\u001b[0m \u001b[0mnp\u001b[0m\u001b[0;34m.\u001b[0m\u001b[0marray\u001b[0m\u001b[0;34m(\u001b[0m\u001b[0mlist\u001b[0m\u001b[0;34m(\u001b[0m\u001b[0mcompStartDict\u001b[0m\u001b[0;34m.\u001b[0m\u001b[0mvalues\u001b[0m\u001b[0;34m(\u001b[0m\u001b[0;34m)\u001b[0m\u001b[0;34m)\u001b[0m\u001b[0;34m)\u001b[0m\u001b[0;34m.\u001b[0m\u001b[0mastype\u001b[0m\u001b[0;34m(\u001b[0m\u001b[0mnp\u001b[0m\u001b[0;34m.\u001b[0m\u001b[0mfloat32\u001b[0m\u001b[0;34m)\u001b[0m\u001b[0;34m\u001b[0m\u001b[0;34m\u001b[0m\u001b[0m\n\u001b[0m\u001b[1;32m     15\u001b[0m \u001b[0mcomm\u001b[0m \u001b[0;34m=\u001b[0m \u001b[0mnp\u001b[0m\u001b[0;34m.\u001b[0m\u001b[0marray\u001b[0m\u001b[0;34m(\u001b[0m\u001b[0mlist\u001b[0m\u001b[0;34m(\u001b[0m\u001b[0mprocStartDict\u001b[0m\u001b[0;34m.\u001b[0m\u001b[0mvalues\u001b[0m\u001b[0;34m(\u001b[0m\u001b[0;34m)\u001b[0m\u001b[0;34m)\u001b[0m\u001b[0;34m)\u001b[0m\u001b[0;34m.\u001b[0m\u001b[0mastype\u001b[0m\u001b[0;34m(\u001b[0m\u001b[0mnp\u001b[0m\u001b[0;34m.\u001b[0m\u001b[0mfloat32\u001b[0m\u001b[0;34m)\u001b[0m \u001b[0;34m-\u001b[0m \u001b[0mcomputing\u001b[0m\u001b[0;34m\u001b[0m\u001b[0;34m\u001b[0m\u001b[0m\n\u001b[1;32m     16\u001b[0m \u001b[0mcomm\u001b[0m \u001b[0;34m=\u001b[0m \u001b[0mnp\u001b[0m\u001b[0;34m.\u001b[0m\u001b[0mrepeat\u001b[0m\u001b[0;34m(\u001b[0m\u001b[0mofficial_start\u001b[0m\u001b[0;34m,\u001b[0m\u001b[0mlen\u001b[0m\u001b[0;34m(\u001b[0m\u001b[0mcomm\u001b[0m\u001b[0;34m)\u001b[0m\u001b[0;34m)\u001b[0m \u001b[0;34m-\u001b[0m \u001b[0mnp\u001b[0m\u001b[0;34m.\u001b[0m\u001b[0marray\u001b[0m\u001b[0;34m(\u001b[0m\u001b[0mlist\u001b[0m\u001b[0;34m(\u001b[0m\u001b[0mcompStartDict\u001b[0m\u001b[0;34m.\u001b[0m\u001b[0mvalues\u001b[0m\u001b[0;34m(\u001b[0m\u001b[0;34m)\u001b[0m\u001b[0;34m)\u001b[0m\u001b[0;34m)\u001b[0m\u001b[0;34m.\u001b[0m\u001b[0mastype\u001b[0m\u001b[0;34m(\u001b[0m\u001b[0mnp\u001b[0m\u001b[0;34m.\u001b[0m\u001b[0mfloat32\u001b[0m\u001b[0;34m)\u001b[0m\u001b[0;34m\u001b[0m\u001b[0;34m\u001b[0m\u001b[0m\n",
      "\u001b[0;31mValueError\u001b[0m: setting an array element with a sequence."
     ]
    }
   ],
   "source": [
    "\"\"\"\n",
    "This will only work for last generation for now but that is ok to just\n",
    "obtain graph. later will need to change process log logic so that keys\n",
    "don't get clobbered\n",
    "\"\"\"\n",
    "\n",
    "procEndDict = logRes['procEndDict']\n",
    "\n",
    "compStartDict = logRes['compStartDict']\n",
    "procStartDict = logRes['procStartDict']\n",
    "startEndPairs = logRes['startEndPairs']\n",
    "official_start = float(startEndPairs[-1][0])\n",
    "labels = list(compStartDict.keys())\n",
    "computing = np.array(list(procEndDict.values())).astype(np.float32) - np.array(list(compStartDict.values())).astype(np.float32)\n",
    "comm = np.array(list(procStartDict.values())).astype(np.float32) - computing\n",
    "comm = np.repeat(official_start,len(comm)) - np.array(list(compStartDict.values())).astype(np.float32)\n",
    "print(comm)\n",
    "width = 0.35       # the width of the bars: can also be len(x) sequence\n",
    "\n",
    "fig, ax = plt.subplots()\n",
    "\n",
    "ax.bar(labels, computing, width, label='Communication')\n",
    "ax.bar(labels, comm, width, bottom=computing,\n",
    "       label='Computation')\n",
    "\n",
    "ax.set_ylabel('Time(s)')\n",
    "ax.set_title('Computation vs. Commmunication in Processes')\n",
    "ax.legend()\n",
    "\n",
    "plt.show()\n"
   ]
  },
  {
   "cell_type": "code",
   "execution_count": 55,
   "metadata": {},
   "outputs": [
    {
     "name": "stdout",
     "output_type": "stream",
     "text": [
      "16\n",
      "max height exc.\n",
      "max height exceeded\n"
     ]
    },
    {
     "data": {
      "image/png": "[encoded data removed]",
      "text/plain": [
       "<Figure size 936x648 with 1 Axes>"
      ]
     },
     "metadata": {
      "needs_background": "light"
     },
     "output_type": "display_data"
    }
   ],
   "source": [
    "import matplotlib.pyplot as plt\n",
    "import matplotlib.patches as patches\n",
    "\n",
    "def makeCustomProfile(nCpus,nodes,popSize, show=True):\n",
    "    f  = \"runTimeLogs/{}C{}N_{}O.log\".format(nCpus,nodes, popSize)\n",
    "    #f  = \"runTimeLogs/runTime.log\"\n",
    "    logRes = processLog(f)\n",
    "    absStart = float(logRes['absStart'])\n",
    "    start_data = np.array([float(start) for start in logRes[\"neuroGPUStartTimes\"]]) \n",
    "    end_data = np.array(logRes[\"neuroGPUEndTimes\"]).astype(float)\n",
    "    print(len(start_data))\n",
    "    times = logRes[\"neuroGPUTimes\"]\n",
    "    # bugged timer\n",
    "    end_data = np.mean(times) + start_data\n",
    "    procEndDict = logRes['procEndDict']\n",
    "    sfsMap = logRes['procToSf']\n",
    "    sfsMapMap = {}\n",
    "    counter = 0\n",
    "    for val in set(list(sfsMap.values())):\n",
    "        sfsMapMap[val] = counter\n",
    "        counter +=1\n",
    "\n",
    "    nGpus = 8# THIS SHOULD BE IN LOG RES logRes['nGpus']\n",
    "    compStartDict = logRes['compStartDict']\n",
    "    procStartDict = logRes['procStartDict']\n",
    "    \n",
    "    startEndPairs = logRes['startEndPairs']\n",
    "    #print(absStart)\n",
    "\n",
    "    #print(startEndPairs)\n",
    "\n",
    "    startEndPairs = [(float(pair0) - float(absStart), float(pair1) - float(absStart)) for pair0, pair1 in startEndPairs]\n",
    "    #print(procStartDict)\n",
    "    #print(startEndPairs)\n",
    "    # Create figure and axes\n",
    "    fig, ax = plt.subplots(figsize=(13,9))\n",
    "    \n",
    "    # YLIM XLIM\n",
    "    plt.ylim(0,600)\n",
    "    #plt.xlim(0,120)\n",
    "    \n",
    "    \n",
    "    \n",
    "    x_anchors= []\n",
    "    x_ends = []\n",
    "\n",
    "    def calc_y_anchor(x_anchor,width,x_anchors,x_ends):\n",
    "        curr_ht = 0\n",
    "        for x_anc, x_end in zip(x_anchors,x_ends):\n",
    "            if x_anchor > x_anc and x_anchor < x_end:\n",
    "                curr_ht += 10\n",
    "            elif x_anc > x_anchor and x_anc < x_anchor+width:\n",
    "                curr_ht += 10\n",
    "        return curr_ht\n",
    "\n",
    "    cur_start = 0\n",
    "    y_base = 0\n",
    "    firstGo = True\n",
    "    for start, end in startEndPairs:\n",
    "        if firstGo:\n",
    "            firstGo = False\n",
    "            plt.axvline(x=start,color=\"blue\", label=\"CPU Eval Start\")\n",
    "            plt.axvline(x=end,color=\"red\", label=\"CPU Eval Done\")\n",
    "        else:\n",
    "            plt.axvline(x=start,color=\"blue\")\n",
    "            plt.axvline(x=end,color=\"red\")\n",
    "\n",
    "\n",
    "\n",
    "    idx = 1\n",
    "    labels = list(compStartDict.keys())\n",
    "    box_ht = 10\n",
    "    for procStart,procEnd,proc in \\\n",
    "    zip(list(procStartDict.values()),list(procEndDict.values()), list(procEndDict.keys()) ):\n",
    "        for pStart,pEnd in zip(procStart,procEnd):\n",
    "            x_anchor = float(pStart)  - float(absStart)#float(procStart) - float(absStart)\n",
    "            y_anchor = y_base + 10\n",
    "            if x_anchor > float(startEndPairs[cur_start][1]) and cur_start < len(startEndPairs) - 1 :\n",
    "                cur_start += 1\n",
    "                y_base = 0\n",
    "            else:\n",
    "                y_base += 10\n",
    "            \n",
    "            if y_base > 1200: # MAX HEIGHT EXCEEDED\n",
    "                print('max height exc.')\n",
    "                break\n",
    "            width =(float(pEnd) - float(absStart)) - (float(pStart) - float(absStart)) #(float(procEnd) - float(absStart)) - (float(procStart) - float(absStart))\n",
    "            #y_anchor = calc_y_anchor(x_anchor,width,x_anchors,x_ends)\n",
    "            x_anchors.append(float(x_anchor)), x_ends.append(width)\n",
    "            rect = patches.Rectangle((x_anchor, y_anchor), width, box_ht, \\\n",
    "                                     linewidth=2, edgecolor='black', facecolor='lightblue', fill=True, zorder=0)\n",
    "            curr_sf = sfsMapMap[sfsMap[proc]]\n",
    "            ax.annotate(curr_sf, (x_anchor + 2.5, y_anchor + 5), color='black', weight='bold', \\\n",
    "                        fontsize=7, ha='center', va='center', zorder=4)\n",
    "            # Add the patch to the Axes\n",
    "            ax.add_patch(rect)\n",
    "            idx += 1\n",
    "        if y_base > 1200:\n",
    "            print(\"max height exceeded\")\n",
    "            break\n",
    "\n",
    "\n",
    "    # Create a Rectangle patches\n",
    "    box_ht = 15 # constant box height\n",
    "    cur_start = 0\n",
    "    y_base = 0\n",
    "    for start,end,idx in zip(start_data,end_data, np.arange(len(end_data))):\n",
    "        x_anchor = start-absStart\n",
    "        if x_anchor > float(startEndPairs[cur_start][1]):\n",
    "            cur_start += 2\n",
    "            y_base = 0\n",
    "        else:\n",
    "            y_base += 15\n",
    "        y_anchor = y_base\n",
    "        width =  end - start\n",
    "        x_anchors.append(float(x_anchor)), x_ends.append(width)\n",
    "        rect = patches.Rectangle((x_anchor, y_anchor), width, box_ht, \\\n",
    "                                 linewidth=2.5, edgecolor='black', facecolor='palegreen', fill=True, zorder=10)\n",
    "        ax.annotate(\"GPU {}\".format(idx %  nGpus), (x_anchor + 10, y_anchor + 8), color='black', weight='bold', \n",
    "                    fontsize=10, ha='center', va='center', zorder=20)\n",
    "\n",
    "        # Add the patch to the Axes\n",
    "        ax.add_patch(rect)\n",
    "    plt.title(\"Profile for {} Node Parallel over Population (pop size {})\".format(nodes, popSize))\n",
    "    #plt.title(\"Custom Profile for {} CPUs, {} Pop Size and {} Nodes\".format(nCpus,nodes,popSize))\n",
    "    plt.legend()\n",
    "    plt.xlabel(\"time (s)\")\n",
    "    #plt.show()\n",
    "    plt.savefig(\"plots/my_profille_{}C{}N{}\".format(nCpus,nodes,popSize))\n",
    "    \n",
    "makeCustomProfile(40,2,1000)"
   ]
  },
  {
   "cell_type": "code",
   "execution_count": 56,
   "metadata": {},
   "outputs": [
    {
     "ename": "FileNotFoundError",
     "evalue": "[Errno 2] No such file or directory: 'runTimeLogs/runTime.log'",
     "output_type": "error",
     "traceback": [
      "\u001b[0;31m---------------------------------------------------------------------------\u001b[0m",
      "\u001b[0;31mFileNotFoundError\u001b[0m                         Traceback (most recent call last)",
      "\u001b[0;32m<ipython-input-56-04edba4d8310>\u001b[0m in \u001b[0;36m<module>\u001b[0;34m\u001b[0m\n\u001b[1;32m     15\u001b[0m \u001b[0mf\u001b[0m  \u001b[0;34m=\u001b[0m \u001b[0;34m\"runTimeLogs/runTime.log\"\u001b[0m\u001b[0;34m\u001b[0m\u001b[0;34m\u001b[0m\u001b[0m\n\u001b[1;32m     16\u001b[0m \u001b[0;31m# f  = \"runTimeLogs/{}C{}N_{}O.log\".format(80,1, 1000)\u001b[0m\u001b[0;34m\u001b[0m\u001b[0;34m\u001b[0m\u001b[0;34m\u001b[0m\u001b[0m\n\u001b[0;32m---> 17\u001b[0;31m \u001b[0mlogRes\u001b[0m \u001b[0;34m=\u001b[0m \u001b[0mprocessLog\u001b[0m\u001b[0;34m(\u001b[0m\u001b[0mf\u001b[0m\u001b[0;34m)\u001b[0m\u001b[0;34m\u001b[0m\u001b[0;34m\u001b[0m\u001b[0m\n\u001b[0m\u001b[1;32m     18\u001b[0m \u001b[0msfsMap\u001b[0m \u001b[0;34m=\u001b[0m \u001b[0mlogRes\u001b[0m\u001b[0;34m[\u001b[0m\u001b[0;34m'procToSf'\u001b[0m\u001b[0;34m]\u001b[0m\u001b[0;34m\u001b[0m\u001b[0;34m\u001b[0m\u001b[0m\n\u001b[1;32m     19\u001b[0m \u001b[0msfsMapMap\u001b[0m \u001b[0;34m=\u001b[0m \u001b[0;34m{\u001b[0m\u001b[0;34m}\u001b[0m\u001b[0;34m\u001b[0m\u001b[0;34m\u001b[0m\u001b[0m\n",
      "\u001b[0;32m<ipython-input-47-f15de6e6db3b>\u001b[0m in \u001b[0;36mprocessLog\u001b[0;34m(f)\u001b[0m\n\u001b[1;32m      1\u001b[0m \u001b[0;32mdef\u001b[0m \u001b[0mprocessLog\u001b[0m\u001b[0;34m(\u001b[0m\u001b[0mf\u001b[0m\u001b[0;34m)\u001b[0m\u001b[0;34m:\u001b[0m\u001b[0;34m\u001b[0m\u001b[0;34m\u001b[0m\u001b[0m\n\u001b[0;32m----> 2\u001b[0;31m     \u001b[0;32mwith\u001b[0m \u001b[0mopen\u001b[0m\u001b[0;34m(\u001b[0m\u001b[0mf\u001b[0m\u001b[0;34m,\u001b[0m \u001b[0;34m\"r\"\u001b[0m\u001b[0;34m)\u001b[0m \u001b[0;32mas\u001b[0m \u001b[0mfile\u001b[0m\u001b[0;34m:\u001b[0m\u001b[0;34m\u001b[0m\u001b[0;34m\u001b[0m\u001b[0m\n\u001b[0m\u001b[1;32m      3\u001b[0m         \u001b[0mstartEndPairs\u001b[0m \u001b[0;34m=\u001b[0m \u001b[0;34m[\u001b[0m\u001b[0;34m]\u001b[0m\u001b[0;34m\u001b[0m\u001b[0;34m\u001b[0m\u001b[0m\n\u001b[1;32m      4\u001b[0m         \u001b[0mruntimes\u001b[0m \u001b[0;34m=\u001b[0m \u001b[0;34m[\u001b[0m\u001b[0;34m]\u001b[0m\u001b[0;34m\u001b[0m\u001b[0;34m\u001b[0m\u001b[0m\n\u001b[1;32m      5\u001b[0m         \u001b[0msfs\u001b[0m \u001b[0;34m=\u001b[0m \u001b[0;34m[\u001b[0m\u001b[0;34m]\u001b[0m\u001b[0;34m\u001b[0m\u001b[0;34m\u001b[0m\u001b[0m\n",
      "\u001b[0;31mFileNotFoundError\u001b[0m: [Errno 2] No such file or directory: 'runTimeLogs/runTime.log'"
     ]
    }
   ],
   "source": [
    "\n",
    "def make_legend(top):\n",
    "    fig, ax = plt.subplots(figsize=(8, 5))\n",
    "    y = 9\n",
    "    level = 0\n",
    "    start = 9\n",
    "    for name, val in top.items():\n",
    "        ax.text(start, y - level, str(val) + \"--> \" + name, fontsize=20)\n",
    "        level += 1\n",
    "\n",
    "    ax.axis([0, 10, 0, 10])\n",
    "    ax.get_xaxis().set_visible(False)\n",
    "    ax.get_yaxis().set_visible(False)\n",
    "    ax.axis('off')\n",
    "    plt.show()\n",
    "f  = \"runTimeLogs/runTime.log\"\n",
    "# f  = \"runTimeLogs/{}C{}N_{}O.log\".format(80,1, 1000)\n",
    "logRes = processLog(f)\n",
    "sfsMap = logRes['procToSf']\n",
    "sfsMapMap = {}\n",
    "counter = 0\n",
    "for val in set(list(sfsMap.values())):\n",
    "    sfsMapMap[val] = counter\n",
    "    counter +=1\n",
    "#make_legend(sfsMapMap)"
   ]
  },
  {
   "cell_type": "code",
   "execution_count": 57,
   "metadata": {},
   "outputs": [
    {
     "ename": "NameError",
     "evalue": "name 'ax' is not defined",
     "output_type": "error",
     "traceback": [
      "\u001b[0;31m---------------------------------------------------------------------------\u001b[0m",
      "\u001b[0;31mNameError\u001b[0m                                 Traceback (most recent call last)",
      "\u001b[0;32m<ipython-input-57-83c57323dd48>\u001b[0m in \u001b[0;36m<module>\u001b[0;34m\u001b[0m\n\u001b[1;32m     55\u001b[0m \u001b[0;32mfor\u001b[0m \u001b[0midx\u001b[0m\u001b[0;34m,\u001b[0m \u001b[0mexp\u001b[0m \u001b[0;32min\u001b[0m \u001b[0menumerate\u001b[0m\u001b[0;34m(\u001b[0m\u001b[0mexps\u001b[0m\u001b[0;34m)\u001b[0m\u001b[0;34m:\u001b[0m\u001b[0;34m\u001b[0m\u001b[0;34m\u001b[0m\u001b[0m\n\u001b[1;32m     56\u001b[0m     \u001b[0;32mif\u001b[0m \u001b[0midx\u001b[0m \u001b[0;34m==\u001b[0m \u001b[0;36m0\u001b[0m\u001b[0;34m:\u001b[0m\u001b[0;34m\u001b[0m\u001b[0;34m\u001b[0m\u001b[0m\n\u001b[0;32m---> 57\u001b[0;31m         \u001b[0mlabels\u001b[0m\u001b[0;34m.\u001b[0m\u001b[0mappend\u001b[0m\u001b[0;34m(\u001b[0m\u001b[0mroofline1\u001b[0m\u001b[0;34m(\u001b[0m\u001b[0mexp\u001b[0m\u001b[0;34m[\u001b[0m\u001b[0;36m0\u001b[0m\u001b[0;34m]\u001b[0m\u001b[0;34m,\u001b[0m \u001b[0mexp\u001b[0m\u001b[0;34m[\u001b[0m\u001b[0;36m1\u001b[0m\u001b[0;34m]\u001b[0m\u001b[0;34m,\u001b[0m \u001b[0mexp\u001b[0m\u001b[0;34m[\u001b[0m\u001b[0;36m2\u001b[0m\u001b[0;34m]\u001b[0m\u001b[0;34m,\u001b[0m\u001b[0midx\u001b[0m\u001b[0;34m,\u001b[0m\u001b[0max\u001b[0m\u001b[0;34m,\u001b[0m\u001b[0mlabels\u001b[0m\u001b[0;34m=\u001b[0m\u001b[0;32mTrue\u001b[0m\u001b[0;34m)\u001b[0m\u001b[0;34m)\u001b[0m\u001b[0;34m\u001b[0m\u001b[0;34m\u001b[0m\u001b[0m\n\u001b[0m\u001b[1;32m     58\u001b[0m     \u001b[0;32melse\u001b[0m\u001b[0;34m:\u001b[0m\u001b[0;34m\u001b[0m\u001b[0;34m\u001b[0m\u001b[0m\n\u001b[1;32m     59\u001b[0m         \u001b[0mlabels\u001b[0m\u001b[0;34m.\u001b[0m\u001b[0mappend\u001b[0m\u001b[0;34m(\u001b[0m\u001b[0mroofline1\u001b[0m\u001b[0;34m(\u001b[0m\u001b[0mexp\u001b[0m\u001b[0;34m[\u001b[0m\u001b[0;36m0\u001b[0m\u001b[0;34m]\u001b[0m\u001b[0;34m,\u001b[0m \u001b[0mexp\u001b[0m\u001b[0;34m[\u001b[0m\u001b[0;36m1\u001b[0m\u001b[0;34m]\u001b[0m\u001b[0;34m,\u001b[0m \u001b[0mexp\u001b[0m\u001b[0;34m[\u001b[0m\u001b[0;36m2\u001b[0m\u001b[0;34m]\u001b[0m\u001b[0;34m,\u001b[0m\u001b[0midx\u001b[0m\u001b[0;34m,\u001b[0m\u001b[0max\u001b[0m\u001b[0;34m)\u001b[0m\u001b[0;34m)\u001b[0m\u001b[0;34m\u001b[0m\u001b[0;34m\u001b[0m\u001b[0m\n",
      "\u001b[0;31mNameError\u001b[0m: name 'ax' is not defined"
     ]
    },
    {
     "data": {
      "text/plain": [
       "<Figure size 432x288 with 0 Axes>"
      ]
     },
     "metadata": {},
     "output_type": "display_data"
    }
   ],
   "source": [
    "def roofline1(nCpus,nodes,popSize, tickPos, ax, labels=False, show=True):\n",
    "    #f  = \"runTimeLogs/{}C{}N_{}O.log\".format(nCpus,nodes, popSize)\n",
    "    f  = \"runTimeLogs/runTime.log\"\n",
    "    logRes = processLog(f)\n",
    "    absStart = float(logRes['absStart'])\n",
    "    start_data = np.array([float(start) for start in logRes[\"neuroGPUStartTimes\"]]) \n",
    "    end_data = np.array(logRes[\"neuroGPUEndTimes\"]).astype(float)\n",
    "    times = logRes[\"neuroGPUTimes\"]\n",
    "    end_data = np.mean(times) + start_data\n",
    "    procEndDict = logRes['procEndDict']\n",
    "    sfsMap = logRes['procToSf']\n",
    "\n",
    "\n",
    "    nGpus = 8# THIS SHOULD BE IN LOG RES logRes['nGpus']\n",
    "    compStartDict = logRes['compStartDict']\n",
    "    procStartDict = logRes['procStartDict']\n",
    "    startEndPairs = logRes['startEndPairs']\n",
    "    startEndPairs = [(float(pair0) - float(absStart), float(pair1) - float(absStart)) for pair0, pair1 in startEndPairs]\n",
    "    # Create figure and axes\n",
    "\n",
    "    comp_total = 0\n",
    "    i_o_total = np.sum(logRes['ioTimes'])\n",
    "    comm_total = 0 \n",
    "    for start, end in startEndPairs:\n",
    "        for procStart, procEnd, compStart in \\\n",
    "        zip(list(procStartDict.values()), list(procEndDict.values()), list(compStartDict.values())):\n",
    "            for idx,(pStart,pEnd,cStart) in enumerate(zip(procStart,procEnd, compStart)): \n",
    "                if float(pStart) - float(absStart) > float(start)\\\n",
    "                and float(pEnd) - float(absStart) <= float(end) and idx == 0: # add communication between starting map\n",
    "                    comm_total += float(pStart) - float(absStart) - float(start ) \n",
    "                    comp_total += float(pEnd) - float(cStart) \n",
    "                else: # add communication between it's previous starting score function and it's run\n",
    "                    comm_total += float(procStart[idx]) - float(procStart[idx-1]) \n",
    "                    comp_total += float(pEnd) - float(cStart) \n",
    "    width = 1 \n",
    "    if labels:\n",
    "        plt.bar(tickPos, comm_total, width, label='comm', color=\"grey\", edgecolor='black',linewidth=1.5)\n",
    "        plt.bar(tickPos, comp_total, width, bottom=comm_total,\n",
    "               label='comp', color=\"black\")\n",
    "        plt.bar(tickPos, i_o_total, width, bottom=comm_total+comp_total,\n",
    "               label='io', color='green')\n",
    "    else:\n",
    "        plt.bar(tickPos, comm_total, width, color=\"grey\", edgecolor='black',linewidth=1.5)\n",
    "        plt.bar(tickPos, comp_total, width, bottom=comm_total, color=\"black\")\n",
    "        plt.bar(tickPos, i_o_total, width, bottom=comm_total+comp_total, color='green')\n",
    "    #plt.bar([\"comm\", \"comp\", \"io\"],[comm_total,comp_total,i_o_total])\n",
    "    print(comm_total / 1000,comp_total / 1000)\n",
    "    print(logRes['runtimes'] )\n",
    "    return \"{}C{}N_{}O\".format(nCpus,nodes, popSize)\n",
    "    \n",
    "    \n",
    "plt.figure()\n",
    "exps = [[65,1,1000], [35,1,1000], [5,1,100]]\n",
    "labels = []\n",
    "for idx, exp in enumerate(exps):\n",
    "    if idx == 0:\n",
    "        labels.append(roofline1(exp[0], exp[1], exp[2],idx,ax,labels=True))\n",
    "    else:\n",
    "        labels.append(roofline1(exp[0], exp[1], exp[2],idx,ax))\n",
    "plt.legend()\n",
    "plt.xticks(ticks=np.arange(len(exps)), labels=labels)\n",
    "plt.legend()\n",
    "plt.title(\"Title goes here\")\n",
    "plt.ylabel(\"time (ms)\")\n",
    "#plt.savefig(\"plots/my_profille_{}C{}N{}\".format(nCpus,nodes,popSize))\n",
    "    "
   ]
  },
  {
   "cell_type": "code",
   "execution_count": null,
   "metadata": {},
   "outputs": [],
   "source": []
  },
  {
   "cell_type": "code",
   "execution_count": 58,
   "metadata": {},
   "outputs": [
    {
     "data": {
      "text/plain": [
       "(0.3854372851222534, 0.36491254700642584)"
      ]
     },
     "execution_count": 58,
     "metadata": {},
     "output_type": "execute_result"
    },
    {
     "data": {
      "image/png": "[encoded data removed]",
      "text/plain": [
       "<Figure size 432x288 with 1 Axes>"
      ]
     },
     "metadata": {
      "needs_background": "light"
     },
     "output_type": "display_data"
    }
   ],
   "source": [
    "def read_mixtape(path):\n",
    "    with open(path,\"r\") as f:\n",
    "        lines = [line for line in f.readlines()]\n",
    "    for line in lines:\n",
    "        if \"Total FLOPs\" in line:\n",
    "            numbers = re.findall(r'\\d+', line)\n",
    "            total_flops = int(numbers[0])\n",
    "        if \"Total Bytes\" in line:\n",
    "            numbers = re.findall(r'\\d+', line)\n",
    "            total_bytes = int(numbers[0])\n",
    "    return total_flops, total_bytes\n",
    "\n",
    "        \n",
    "total_flops,total_bytes = read_mixtape(\"mixtapes/test.txt\")\n",
    "AI = total_flops / total_bytes\n",
    "runtime = 109\n",
    "gflops = total_flops / runtime\n",
    "plt.scatter(AI, gflops, label=\"10\")\n",
    "\n",
    "\n",
    "total_flops,total_bytes = read_mixtape(\"mixtapes/test2.txt\")\n",
    "AI = total_flops / total_bytes\n",
    "runtime = 171.3363344669342\n",
    "gflops = total_flops / runtime\n",
    "plt.scatter(AI,gflops, label=\"40\")\n",
    "\n",
    "\n",
    "total_flops,total_bytes = read_mixtape(\"mixtapes/test3.txt\")\n",
    "AI = total_flops / total_bytes\n",
    "runtime = 308.3363344669342\n",
    "gflops = total_flops / runtime\n",
    "plt.scatter(AI,gflops, label=\"100\")\n",
    "\n",
    "\n",
    "plt.legend()\n",
    "\n",
    "\n",
    "440139874 / 1141923449 , 1696623459585 / 4649397433723"
   ]
  },
  {
   "cell_type": "code",
   "execution_count": 72,
   "metadata": {},
   "outputs": [],
   "source": [
    "def processLog(f):\n",
    "    with open(f, \"r\") as file:\n",
    "        startEndPairs = []\n",
    "        runtimes = []\n",
    "        sfs = []\n",
    "        neuroGPUStartTimes = []\n",
    "        neuroGPUEndTimes = []\n",
    "        procToSf = {}\n",
    "        procStartDict = {}\n",
    "        procEndDict = {}\n",
    "        compStartDict = {}\n",
    "        io_times = []\n",
    "        file_lines =file.readlines()\n",
    "        readingEnds = False\n",
    "        readingStarts = False\n",
    "        for line in file_lines:\n",
    "            if \"Date:\" in line:\n",
    "                print(line)\n",
    "            if \"absolute start\" in line:\n",
    "                numbers = re.findall(r'\\d+', line)\n",
    "                abs_start = [ '.'.join(x) for x in zip(numbers[0::2], numbers[1::2]) ][0]\n",
    "            if \"nCpus\" in line:\n",
    "                nCpus = int(re.match('.*?([0-9]+)$', line).group(1))\n",
    "                #assert nCpus  == cpu, \"expected {} but got {} cpus in log\".format(cpu,nCpus)\n",
    "            if \"took:\" in line:\n",
    "                runtime = float(re.findall(r\"[-+]?\\d*\\.\\d+|\\d+\",line)[1])\n",
    "                #print(runtime)\n",
    "                runtimes.append(runtime)\n",
    "            if \"launched PIDS\" in line:\n",
    "                start = re.findall(r'\\d+', line)[0] # second half is in miliseconds, don't need that precision\n",
    "                \n",
    "            if \"finished PIDS\" in line:\n",
    "                end = re.findall(r'\\d+', line)[0] \n",
    "                startEndPairs.append((start,end))\n",
    "            if \"process\"  in line and \"started\" in line:\n",
    "                stSplit = line.split(\" \")\n",
    "                sf = [stSplit[i] for i in range(2,len(stSplit)-2) if stSplit[i-1] == \"is\" and  stSplit[i+1] == \"and\"][0]\n",
    "                sfs.append(sf)\n",
    "                line = re.sub(r'(?<=is)(.*)(?=and)', \"\", line)\n",
    "                numbers = re.findall(r'\\d+', line)\n",
    "\n",
    "                procToSf[numbers[0]] = sf\n",
    "                if numbers[0] in procStartDict.keys():\n",
    "                    procStartDict[numbers[0]].append(numbers[1])\n",
    "                else:\n",
    "                    procStartDict[numbers[0]] = [numbers[1]]\n",
    "            if \"returning\" in line:\n",
    "                numbers = re.findall(r'\\d+', line)\n",
    "                if numbers[0] in procEndDict.keys():\n",
    "                    procEndDict[numbers[0]].append(numbers[1])\n",
    "                else:\n",
    "                    procEndDict[numbers[0]] = [numbers[1]]\n",
    "            if \"computing\" in line:\n",
    "                numbers = re.findall(r'\\d+', line)\n",
    "                if numbers[0] in compStartDict.keys():\n",
    "                    compStartDict[numbers[0]].append(numbers[1])\n",
    "                else:\n",
    "                    compStartDict[numbers[0]] = [numbers[1]]\n",
    "            if \"evaluation:\" in line:\n",
    "                numbers = re.findall(r'\\d+', line)\n",
    "                numbers = [ '.'.join(x) for x in zip(numbers[0::2], numbers[1::2]) ]\n",
    "                evalTimes = np.array(list(numbers), dtype=np.float32)\n",
    "                avgEval = np.mean(evalTimes)\n",
    "            if \"neuroGPU\" in line and \"starts\" not in line and \"ends\" not in line:\n",
    "                numbers = re.findall(r'\\d+', line)\n",
    "                numbers = [ '.'.join(x) for x in zip(numbers[0::2], numbers[1::2]) ]\n",
    "                neuroGPUTimes = np.array(list(numbers),dtype=np.float32)\n",
    "                avgNGPU = np.mean(neuroGPUTimes)\n",
    "            if (\"neuroGPU\" in line and \"starts\" in line and \"ends\" not in line) or readingEnds:\n",
    "                readingEnds = True\n",
    "                numbers = re.findall(r'\\d+', line)\n",
    "                numbers = [ '.'.join([x1,x2]) + \"e+\" + str(x3) for x1,x2,x3 in zip(numbers[0::3], numbers[1::3], numbers[2::3]) ]\n",
    "                neuroGPUStartTimes += numbers\n",
    "                if \"]\" in line:\n",
    "                    readingEnds = False\n",
    "            if (\"neuroGPU\" in line and \"starts\" not in line and \"ends\" in line) or readingStarts:\n",
    "                readingStarts = True\n",
    "                numbers = re.findall(r'\\d+', line)\n",
    "                numbers = [ '.'.join([x1,x2]) + \"e+\" + str(x3) for x1,x2,x3 in zip(numbers[0::3], numbers[1::3], numbers[2::3]) ]\n",
    "                neuroGPUEndTimes += numbers\n",
    "                if \"]\" in line:\n",
    "                    readingStarts = False\n",
    "            if \"IO:\" in line:\n",
    "                numbers = re.findall(r'\\d+', line)\n",
    "                numbers = [ '.'.join([x1,x2]) + \"e+\" + str(x3) for x1,x2,x3 in zip(numbers[0::3], numbers[1::3], numbers[2::3]) ]\n",
    "                io_times.append(numbers)\n",
    "            \n",
    "            \n",
    "    res = {\"procStartDict\": procStartDict,\"procEndDict\": procEndDict,\\\n",
    "           \"startEndPairs\": startEndPairs,\"runtimes\": runtimes,\\\n",
    "           \"compStartDict\": compStartDict,\"sfs\": sfs,\\\n",
    "           \"evalTimes\": evalTimes,\"neuroGPUTimes\": neuroGPUTimes,\\\n",
    "          \"procToSf\": procToSf, \"absStart\": abs_start, \\\n",
    "           \"neuroGPUStartTimes\": neuroGPUStartTimes, \\\n",
    "           \"neuroGPUEndTimes\": neuroGPUEndTimes, \"ioTimes\": io_times}\n",
    "    return res\n",
    "f  = \"runTimeLogs/{}C{}N_{}O.log\".format(80,1, 1000)\n",
    "logRes = processLog(f)"
   ]
  },
  {
   "cell_type": "code",
   "execution_count": 75,
   "metadata": {},
   "outputs": [
    {
     "data": {
      "image/png": "[encoded data removed]",
      "text/plain": [
       "<Figure size 432x288 with 1 Axes>"
      ]
     },
     "metadata": {
      "needs_background": "light"
     },
     "output_type": "display_data"
    }
   ],
   "source": [
    "def plotScaling(nCpus,nodes,popSize, show=True):\n",
    "    #f  = \"runTimeLogs/runTime.log\"\n",
    "    runtimes = []\n",
    "    labels = []\n",
    "    for idx,(node,pop,nCpu) in enumerate(zip(nodes,pops,nCpus)):\n",
    "        f  = \"runTimeLogs/{}C{}N_{}O.log\".format(nCpu,node, 1000)\n",
    "        logRes = processLog(f)\n",
    "        runtime = np.mean(logRes['runtimes'])\n",
    "        runtimes.append(runtime)\n",
    "        label = \"{}C{}N_{}O\".format(nCpu,node, pop)\n",
    "        labels.append(label)\n",
    "    plt.scatter(np.arange(len(runtimes)), runtimes)\n",
    "    plt.plot(np.arange(len(runtimes)), runtimes)\n",
    "    plt.xticks(ticks=np.arange(len(runtimes)), labels=labels, rotation=45)\n",
    "    plt.ylabel(\"total runtime (s)\")\n",
    "    \n",
    "nodes = [2,3,4,5,6,8,9]\n",
    "pops = [node*1000 for node in nodes]\n",
    "nCpus = np.repeat(40, len(nodes))\n",
    "plt.title(\"Population Size Scaling w. Nodes\")\n",
    "plotScaling(nCpus,nodes,pops)"
   ]
  },
  {
   "cell_type": "code",
   "execution_count": null,
   "metadata": {},
   "outputs": [],
   "source": []
  },
  {
   "cell_type": "code",
   "execution_count": null,
   "metadata": {},
   "outputs": [],
   "source": []
  },
  {
   "cell_type": "code",
   "execution_count": null,
   "metadata": {},
   "outputs": [],
   "source": []
  }
 ],
 "metadata": {
  "kernelspec": {
   "display_name": "dot_env",
   "language": "python",
   "name": "dot_env"
  },
  "language_info": {
   "codemirror_mode": {
    "name": "ipython",
    "version": 3
   },
   "file_extension": ".py",
   "mimetype": "text/x-python",
   "name": "python",
   "nbconvert_exporter": "python",
   "pygments_lexer": "ipython3",
   "version": "3.8.6"
  }
 },
 "nbformat": 4,
 "nbformat_minor": 4
}
